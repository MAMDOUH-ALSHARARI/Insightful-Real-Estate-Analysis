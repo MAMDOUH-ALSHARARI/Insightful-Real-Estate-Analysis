{
 "cells": [
  {
   "cell_type": "code",
   "execution_count": 5,
   "id": "e69c4ba1-85f3-4a02-ae37-c64347a01803",
   "metadata": {
    "executionInfo": {
     "elapsed": 3388,
     "status": "ok",
     "timestamp": 1729791484279,
     "user": {
      "displayName": "Mamdouh Alsharari",
      "userId": "05698238833697906943"
     },
     "user_tz": -660
    },
    "id": "e69c4ba1-85f3-4a02-ae37-c64347a01803"
   },
   "outputs": [],
   "source": [
    "#Import all relevant libraries\n",
    "import numpy as np\n",
    "import pandas as pd\n",
    "import matplotlib.pyplot as plt\n",
    "import seaborn as sns\n",
    "from scipy.stats import zscore\n",
    "from ydata_profiling import ProfileReport\n",
    "import sweetviz as sv\n",
    "\n",
    "## This statement allows the visuals to render within your Jupyter Notebook.\n",
    "%matplotlib inline"
   ]
  },
  {
   "cell_type": "markdown",
   "id": "e395e8bf-b530-4720-8d0f-26811e927d6e",
   "metadata": {
    "id": "e395e8bf-b530-4720-8d0f-26811e927d6e"
   },
   "source": [
    "## Loading the data\n",
    "We can now load the dataset into pandas using the read_csv() function. This converts the CSV file into a Pandas dataframe."
   ]
  },
  {
   "cell_type": "code",
   "execution_count": null,
   "id": "BaqYQekOm3IW",
   "metadata": {
    "id": "BaqYQekOm3IW"
   },
   "outputs": [],
   "source": [
    "#RiyadhVillasAqar.csv\n",
    "#Riyadh_Aqqar.xlsx\n",
    "#realEstate.csv"
   ]
  },
  {
   "cell_type": "code",
   "execution_count": null,
   "id": "cf4030b0-aa7f-4bd7-8e9c-c1b7f4d202d0",
   "metadata": {
    "id": "cf4030b0-aa7f-4bd7-8e9c-c1b7f4d202d0"
   },
   "outputs": [],
   "source": [
    "#Read in the csv file and convert to a Pandas dataframe"
   ]
  },
  {
   "cell_type": "code",
   "execution_count": null,
   "id": "TQcLBA-InGm_",
   "metadata": {
    "colab": {
     "base_uri": "https://localhost:8080/"
    },
    "executionInfo": {
     "elapsed": 4080,
     "status": "ok",
     "timestamp": 1729791605395,
     "user": {
      "displayName": "Mamdouh Alsharari",
      "userId": "05698238833697906943"
     },
     "user_tz": -660
    },
    "id": "TQcLBA-InGm_",
    "outputId": "29d5f7cf-2896-44be-8ae7-07d1972c6ebf"
   },
   "outputs": [
    {
     "data": {
      "application/vnd.jupyter.widget-view+json": {
       "model_id": "6b42363fb9344ef7976d96d7d5db520e",
       "version_major": 2,
       "version_minor": 0
      },
      "text/plain": [
       "Summarize dataset:   0%|          | 0/5 [00:00<?, ?it/s]"
      ]
     },
     "metadata": {},
     "output_type": "display_data"
    },
    {
     "data": {
      "application/vnd.jupyter.widget-view+json": {
       "model_id": "671d6dd9d35c442e9e4dc1662add2a06",
       "version_major": 2,
       "version_minor": 0
      },
      "text/plain": [
       "Generate report structure:   0%|          | 0/1 [00:00<?, ?it/s]"
      ]
     },
     "metadata": {},
     "output_type": "display_data"
    }
   ],
   "source": [
    "realEstate=pd.read_csv(r\"C:\\Users\\Eknjz\\Desktop\\DATA SCIENCE AND MACHINE LEARNING\\week3_project\\Usecase-6-Project-3\\realEstate.csv\")\n",
    "profile=ProfileReport(realEstate,title='RIYADH AQAR') # use the y data library\n",
    "profile.to_notebook_iframe()\n"
   ]
  },
  {
   "cell_type": "code",
   "execution_count": null,
   "id": "6e9997c2-308f-4a56-adef-e7c15588b9c5",
   "metadata": {},
   "outputs": [],
   "source": []
  },
  {
   "cell_type": "code",
   "execution_count": null,
   "id": "FyyRhMjbofPJ",
   "metadata": {
    "id": "FyyRhMjbofPJ"
   },
   "outputs": [],
   "source": [
    "#Read in the xlsx file and convert to a Pandas dataframe"
   ]
  },
  {
   "cell_type": "code",
   "execution_count": 7,
   "id": "cwafHqqmodkJ",
   "metadata": {
    "executionInfo": {
     "elapsed": 1408,
     "status": "ok",
     "timestamp": 1729792035562,
     "user": {
      "displayName": "Mamdouh Alsharari",
      "userId": "05698238833697906943"
     },
     "user_tz": -660
    },
    "id": "cwafHqqmodkJ"
   },
   "outputs": [],
   "source": []
  },
  {
   "cell_type": "markdown",
   "id": "ca5ed983-0f72-43eb-8168-6fafd48c562e",
   "metadata": {
    "id": "ca5ed983-0f72-43eb-8168-6fafd48c562e"
   },
   "source": [
    "### Viewing the dataframe\n",
    "We can get a quick sense of the size of our dataset by using the shape method. This returns a tuple with the number of rows and columns in the dataset."
   ]
  },
  {
   "cell_type": "markdown",
   "id": "Edk-sCMOsCnN",
   "metadata": {
    "id": "Edk-sCMOsCnN"
   },
   "source": [
    "#### **First data source: realEstate.csv**"
   ]
  },
  {
   "cell_type": "code",
   "execution_count": 11,
   "id": "74dkjdWkpb0f",
   "metadata": {
    "colab": {
     "base_uri": "https://localhost:8080/"
    },
    "executionInfo": {
     "elapsed": 373,
     "status": "ok",
     "timestamp": 1729792178397,
     "user": {
      "displayName": "Mamdouh Alsharari",
      "userId": "05698238833697906943"
     },
     "user_tz": -660
    },
    "id": "74dkjdWkpb0f",
    "outputId": "55a162c9-5df8-4997-dad5-ceb2b95ebda9"
   },
   "outputs": [
    {
     "data": {
      "text/plain": [
       "(6762, 30)"
      ]
     },
     "execution_count": 11,
     "metadata": {},
     "output_type": "execute_result"
    }
   ],
   "source": [
    "realEstate.shape"
   ]
  },
  {
   "cell_type": "markdown",
   "id": "38mB8SAJsWVh",
   "metadata": {
    "id": "38mB8SAJsWVh"
   },
   "source": [
    "#### **Second data source: RiyadhVillasAqar.csv**"
   ]
  },
  {
   "cell_type": "code",
   "execution_count": 12,
   "id": "sLgI4-SLqMiE",
   "metadata": {
    "colab": {
     "base_uri": "https://localhost:8080/"
    },
    "executionInfo": {
     "elapsed": 498,
     "status": "ok",
     "timestamp": 1729792370559,
     "user": {
      "displayName": "Mamdouh Alsharari",
      "userId": "05698238833697906943"
     },
     "user_tz": -660
    },
    "id": "sLgI4-SLqMiE",
    "outputId": "0bc406fb-4960-40c9-9467-02a67122a604"
   },
   "outputs": [
    {
     "data": {
      "text/plain": [
       "(46826, 26)"
      ]
     },
     "execution_count": 12,
     "metadata": {},
     "output_type": "execute_result"
    }
   ],
   "source": []
  },
  {
   "cell_type": "markdown",
   "id": "ADap8YLZsuDB",
   "metadata": {
    "id": "ADap8YLZsuDB"
   },
   "source": [
    "#### **Third data source: Riyadh_Aqqar.xlsx**"
   ]
  },
  {
   "cell_type": "code",
   "execution_count": null,
   "id": "cEKbXpKOsmIz",
   "metadata": {
    "id": "cEKbXpKOsmIz"
   },
   "outputs": [],
   "source": []
  },
  {
   "cell_type": "code",
   "execution_count": null,
   "id": "bfde0b69-613c-4dd1-8ebf-e4d2e570e653",
   "metadata": {
    "colab": {
     "base_uri": "https://localhost:8080/"
    },
    "executionInfo": {
     "elapsed": 375,
     "status": "ok",
     "timestamp": 1729792081640,
     "user": {
      "displayName": "Mamdouh Alsharari",
      "userId": "05698238833697906943"
     },
     "user_tz": -660
    },
    "id": "bfde0b69-613c-4dd1-8ebf-e4d2e570e653",
    "outputId": "82254002-f54e-4529-a4cd-ed4c42d1b3cb"
   },
   "outputs": [],
   "source": []
  },
  {
   "cell_type": "code",
   "execution_count": 9,
   "id": "iJUaScT3pNYQ",
   "metadata": {
    "colab": {
     "base_uri": "https://localhost:8080/"
    },
    "executionInfo": {
     "elapsed": 344,
     "status": "ok",
     "timestamp": 1729792119602,
     "user": {
      "displayName": "Mamdouh Alsharari",
      "userId": "05698238833697906943"
     },
     "user_tz": -660
    },
    "id": "iJUaScT3pNYQ",
    "outputId": "6368dd01-078d-4d2d-d674-8354b502d74f"
   },
   "outputs": [
    {
     "data": {
      "text/plain": [
       "(1090, 20)"
      ]
     },
     "execution_count": 9,
     "metadata": {},
     "output_type": "execute_result"
    }
   ],
   "source": []
  },
  {
   "cell_type": "code",
   "execution_count": 10,
   "id": "bTROjNOwpTfx",
   "metadata": {
    "colab": {
     "base_uri": "https://localhost:8080/"
    },
    "executionInfo": {
     "elapsed": 480,
     "status": "ok",
     "timestamp": 1729792145087,
     "user": {
      "displayName": "Mamdouh Alsharari",
      "userId": "05698238833697906943"
     },
     "user_tz": -660
    },
    "id": "bTROjNOwpTfx",
    "outputId": "3938122e-4ddd-416d-97a0-0a54bb4e17ba"
   },
   "outputs": [
    {
     "data": {
      "text/plain": [
       "(551, 15)"
      ]
     },
     "execution_count": 10,
     "metadata": {},
     "output_type": "execute_result"
    }
   ],
   "source": []
  },
  {
   "cell_type": "markdown",
   "id": "bd2b5bc4-db37-4432-b666-0714afd0c4ca",
   "metadata": {
    "id": "bd2b5bc4-db37-4432-b666-0714afd0c4ca"
   },
   "source": [
    "## 1. Data Profiling:\n",
    "Data profiling is a comprehensive process of examining the data available in an existing dataset and collecting statistics and information about that data."
   ]
  },
  {
   "cell_type": "markdown",
   "id": "834929aa-fd6a-4ec5-84d4-77c4b3c1a506",
   "metadata": {
    "id": "834929aa-fd6a-4ec5-84d4-77c4b3c1a506"
   },
   "source": [
    "The process of profiling differs slightly for categorical and numerical variables due to their inherent differences.\n",
    "\n",
    "**The two main types of data are:**\n",
    "- Quantitative (numerical) data\n",
    "- Qualitative (categorical) data"
   ]
  },
  {
   "cell_type": "markdown",
   "id": "-i2hyb1utBlp",
   "metadata": {
    "id": "-i2hyb1utBlp"
   },
   "source": [
    "#### **First data source: realEstate.csv**"
   ]
  },
  {
   "cell_type": "code",
   "execution_count": null,
   "id": "2CseCFfDtBlq",
   "metadata": {
    "colab": {
     "base_uri": "https://localhost:8080/",
     "height": 251
    },
    "executionInfo": {
     "elapsed": 381,
     "status": "ok",
     "timestamp": 1729793211740,
     "user": {
      "displayName": "Mamdouh Alsharari",
      "userId": "05698238833697906943"
     },
     "user_tz": -660
    },
    "id": "2CseCFfDtBlq",
    "outputId": "53d43501-e9f0-4ca0-fd32-16b4e5eb9bf8"
   },
   "outputs": [],
   "source": [
    "realEstate.head(5)\n"
   ]
  },
  {
   "cell_type": "code",
   "execution_count": null,
   "id": "f87c85b1-a8be-4a6d-b731-ad81ce02c2d7",
   "metadata": {},
   "outputs": [],
   "source": [
    "realEstate.shape"
   ]
  },
  {
   "cell_type": "markdown",
   "id": "aEx_uooLtEwe",
   "metadata": {
    "id": "aEx_uooLtEwe"
   },
   "source": [
    "#### **Second data source: RiyadhVillasAqar.csv**"
   ]
  },
  {
   "cell_type": "code",
   "execution_count": 14,
   "id": "v7OsiYLBtEwf",
   "metadata": {
    "colab": {
     "base_uri": "https://localhost:8080/",
     "height": 164
    },
    "collapsed": true,
    "executionInfo": {
     "elapsed": 576,
     "status": "ok",
     "timestamp": 1729793226501,
     "user": {
      "displayName": "Mamdouh Alsharari",
      "userId": "05698238833697906943"
     },
     "user_tz": -660
    },
    "id": "v7OsiYLBtEwf",
    "jupyter": {
     "outputs_hidden": true
    },
    "outputId": "93e84a22-906d-4fc6-f468-087272cfbe47"
   },
   "outputs": [
    {
     "data": {
      "application/vnd.google.colaboratory.intrinsic+json": {
       "type": "dataframe",
       "variable_name": "RiyadhVillasAqar"
      },
      "text/html": [
       "\n",
       "  <div id=\"df-5c91ce64-0b14-4012-9de7-04a650127841\" class=\"colab-df-container\">\n",
       "    <div>\n",
       "<style scoped>\n",
       "    .dataframe tbody tr th:only-of-type {\n",
       "        vertical-align: middle;\n",
       "    }\n",
       "\n",
       "    .dataframe tbody tr th {\n",
       "        vertical-align: top;\n",
       "    }\n",
       "\n",
       "    .dataframe thead th {\n",
       "        text-align: right;\n",
       "    }\n",
       "</style>\n",
       "<table border=\"1\" class=\"dataframe\">\n",
       "  <thead>\n",
       "    <tr style=\"text-align: right;\">\n",
       "      <th></th>\n",
       "      <th>Unnamed: 0</th>\n",
       "      <th>front</th>\n",
       "      <th>rooms</th>\n",
       "      <th>lounges</th>\n",
       "      <th>bathrooms</th>\n",
       "      <th>streetWidth</th>\n",
       "      <th>stairs</th>\n",
       "      <th>propertyAge</th>\n",
       "      <th>driverRoom</th>\n",
       "      <th>tent</th>\n",
       "      <th>...</th>\n",
       "      <th>apartments</th>\n",
       "      <th>maidRoom</th>\n",
       "      <th>elevator</th>\n",
       "      <th>furnihsed</th>\n",
       "      <th>pool</th>\n",
       "      <th>basement</th>\n",
       "      <th>neighbourhood</th>\n",
       "      <th>location</th>\n",
       "      <th>price</th>\n",
       "      <th>square price</th>\n",
       "    </tr>\n",
       "  </thead>\n",
       "  <tbody>\n",
       "    <tr>\n",
       "      <th>0</th>\n",
       "      <td>0</td>\n",
       "      <td>شرقية</td>\n",
       "      <td>5</td>\n",
       "      <td>4</td>\n",
       "      <td>5+</td>\n",
       "      <td>20.0</td>\n",
       "      <td>1</td>\n",
       "      <td>0</td>\n",
       "      <td>1</td>\n",
       "      <td>1</td>\n",
       "      <td>...</td>\n",
       "      <td>0</td>\n",
       "      <td>0</td>\n",
       "      <td>0</td>\n",
       "      <td>0</td>\n",
       "      <td>0</td>\n",
       "      <td>0</td>\n",
       "      <td>عكاظ</td>\n",
       "      <td>جنوب الرياض</td>\n",
       "      <td>1050000.0</td>\n",
       "      <td>3500.0</td>\n",
       "    </tr>\n",
       "  </tbody>\n",
       "</table>\n",
       "<p>1 rows × 26 columns</p>\n",
       "</div>\n",
       "    <div class=\"colab-df-buttons\">\n",
       "\n",
       "  <div class=\"colab-df-container\">\n",
       "    <button class=\"colab-df-convert\" onclick=\"convertToInteractive('df-5c91ce64-0b14-4012-9de7-04a650127841')\"\n",
       "            title=\"Convert this dataframe to an interactive table.\"\n",
       "            style=\"display:none;\">\n",
       "\n",
       "  <svg xmlns=\"http://www.w3.org/2000/svg\" height=\"24px\" viewBox=\"0 -960 960 960\">\n",
       "    <path d=\"M120-120v-720h720v720H120Zm60-500h600v-160H180v160Zm220 220h160v-160H400v160Zm0 220h160v-160H400v160ZM180-400h160v-160H180v160Zm440 0h160v-160H620v160ZM180-180h160v-160H180v160Zm440 0h160v-160H620v160Z\"/>\n",
       "  </svg>\n",
       "    </button>\n",
       "\n",
       "  <style>\n",
       "    .colab-df-container {\n",
       "      display:flex;\n",
       "      gap: 12px;\n",
       "    }\n",
       "\n",
       "    .colab-df-convert {\n",
       "      background-color: #E8F0FE;\n",
       "      border: none;\n",
       "      border-radius: 50%;\n",
       "      cursor: pointer;\n",
       "      display: none;\n",
       "      fill: #1967D2;\n",
       "      height: 32px;\n",
       "      padding: 0 0 0 0;\n",
       "      width: 32px;\n",
       "    }\n",
       "\n",
       "    .colab-df-convert:hover {\n",
       "      background-color: #E2EBFA;\n",
       "      box-shadow: 0px 1px 2px rgba(60, 64, 67, 0.3), 0px 1px 3px 1px rgba(60, 64, 67, 0.15);\n",
       "      fill: #174EA6;\n",
       "    }\n",
       "\n",
       "    .colab-df-buttons div {\n",
       "      margin-bottom: 4px;\n",
       "    }\n",
       "\n",
       "    [theme=dark] .colab-df-convert {\n",
       "      background-color: #3B4455;\n",
       "      fill: #D2E3FC;\n",
       "    }\n",
       "\n",
       "    [theme=dark] .colab-df-convert:hover {\n",
       "      background-color: #434B5C;\n",
       "      box-shadow: 0px 1px 3px 1px rgba(0, 0, 0, 0.15);\n",
       "      filter: drop-shadow(0px 1px 2px rgba(0, 0, 0, 0.3));\n",
       "      fill: #FFFFFF;\n",
       "    }\n",
       "  </style>\n",
       "\n",
       "    <script>\n",
       "      const buttonEl =\n",
       "        document.querySelector('#df-5c91ce64-0b14-4012-9de7-04a650127841 button.colab-df-convert');\n",
       "      buttonEl.style.display =\n",
       "        google.colab.kernel.accessAllowed ? 'block' : 'none';\n",
       "\n",
       "      async function convertToInteractive(key) {\n",
       "        const element = document.querySelector('#df-5c91ce64-0b14-4012-9de7-04a650127841');\n",
       "        const dataTable =\n",
       "          await google.colab.kernel.invokeFunction('convertToInteractive',\n",
       "                                                    [key], {});\n",
       "        if (!dataTable) return;\n",
       "\n",
       "        const docLinkHtml = 'Like what you see? Visit the ' +\n",
       "          '<a target=\"_blank\" href=https://colab.research.google.com/notebooks/data_table.ipynb>data table notebook</a>'\n",
       "          + ' to learn more about interactive tables.';\n",
       "        element.innerHTML = '';\n",
       "        dataTable['output_type'] = 'display_data';\n",
       "        await google.colab.output.renderOutput(dataTable, element);\n",
       "        const docLink = document.createElement('div');\n",
       "        docLink.innerHTML = docLinkHtml;\n",
       "        element.appendChild(docLink);\n",
       "      }\n",
       "    </script>\n",
       "  </div>\n",
       "\n",
       "\n",
       "    </div>\n",
       "  </div>\n"
      ],
      "text/plain": [
       "   Unnamed: 0  front  rooms lounges bathrooms  streetWidth  stairs  \\\n",
       "0           0  شرقية      5       4        5+         20.0       1   \n",
       "\n",
       "   propertyAge  driverRoom  tent  ...  apartments  maidRoom  elevator  \\\n",
       "0            0           1     1  ...           0         0         0   \n",
       "\n",
       "   furnihsed  pool  basement neighbourhood     location      price  \\\n",
       "0          0     0         0         عكاظ   جنوب الرياض  1050000.0   \n",
       "\n",
       "   square price  \n",
       "0        3500.0  \n",
       "\n",
       "[1 rows x 26 columns]"
      ]
     },
     "execution_count": 14,
     "metadata": {},
     "output_type": "execute_result"
    }
   ],
   "source": []
  },
  {
   "cell_type": "markdown",
   "id": "YaNtBCDjtSvB",
   "metadata": {
    "id": "YaNtBCDjtSvB"
   },
   "source": [
    "#### **Third data source: Riyadh_Aqqar.xlsx**"
   ]
  },
  {
   "cell_type": "code",
   "execution_count": 15,
   "id": "1lp7uDKQtSvB",
   "metadata": {
    "colab": {
     "base_uri": "https://localhost:8080/",
     "height": 80
    },
    "executionInfo": {
     "elapsed": 496,
     "status": "ok",
     "timestamp": 1729793247869,
     "user": {
      "displayName": "Mamdouh Alsharari",
      "userId": "05698238833697906943"
     },
     "user_tz": -660
    },
    "id": "1lp7uDKQtSvB",
    "outputId": "95f9c23f-6542-4239-c8c5-d54da134adc3"
   },
   "outputs": [
    {
     "data": {
      "application/vnd.google.colaboratory.intrinsic+json": {
       "summary": "{\n  \"name\": \"Riyadh_AqqarLand\",\n  \"rows\": 2155,\n  \"fields\": [\n    {\n      \"column\": \"\\u0646\\u0648\\u0639 \\u0627\\u0644\\u0639\\u0642\\u0627\\u0631\",\n      \"properties\": {\n        \"dtype\": \"category\",\n        \"num_unique_values\": 1,\n        \"samples\": [\n          \"\\u0623\\u0631\\u0636\"\n        ],\n        \"semantic_type\": \"\",\n        \"description\": \"\"\n      }\n    },\n    {\n      \"column\": \"\\u0627\\u0644\\u063a\\u0631\\u0636\",\n      \"properties\": {\n        \"dtype\": \"category\",\n        \"num_unique_values\": 3,\n        \"samples\": [\n          \"\\u0633\\u0643\\u0646\\u064a\"\n        ],\n        \"semantic_type\": \"\",\n        \"description\": \"\"\n      }\n    },\n    {\n      \"column\": \"\\u0627\\u0644\\u0645\\u062f\\u064a\\u0646\\u0629\",\n      \"properties\": {\n        \"dtype\": \"category\",\n        \"num_unique_values\": 20,\n        \"samples\": [\n          \" \\u0627\\u0645\\u0627\\u0631\\u0629 \\u0645\\u0646\\u0637\\u0642\\u0629 \\u0627\\u0644\\u0631\\u064a\\u0627\\u0636\"\n        ],\n        \"semantic_type\": \"\",\n        \"description\": \"\"\n      }\n    },\n    {\n      \"column\": \"\\u0627\\u0644\\u062d\\u064a\",\n      \"properties\": {\n        \"dtype\": \"category\",\n        \"num_unique_values\": 143,\n        \"samples\": [\n          \" \\u062d\\u064a \\u0627\\u0644\\u062f\\u0641\\u0627\\u0639 \"\n        ],\n        \"semantic_type\": \"\",\n        \"description\": \"\"\n      }\n    },\n    {\n      \"column\": \"\\u0627\\u0644\\u0648\\u0627\\u062c\\u0647\\u0629\",\n      \"properties\": {\n        \"dtype\": \"category\",\n        \"num_unique_values\": 10,\n        \"samples\": [\n          \"\\u0634\\u0645\\u0627\\u0644\\u064a\\u0629 \\u063a\\u0631\\u0628\\u064a\\u0629\"\n        ],\n        \"semantic_type\": \"\",\n        \"description\": \"\"\n      }\n    },\n    {\n      \"column\": \"\\u0627\\u0644\\u0645\\u0633\\u0627\\u062d\\u0629\",\n      \"properties\": {\n        \"dtype\": \"number\",\n        \"std\": 9757,\n        \"min\": 1,\n        \"max\": 299684,\n        \"num_unique_values\": 510,\n        \"samples\": [\n          444\n        ],\n        \"semantic_type\": \"\",\n        \"description\": \"\"\n      }\n    },\n    {\n      \"column\": \"\\u0633\\u0639\\u0631 \\u0627\\u0644\\u0645\\u062a\\u0631\",\n      \"properties\": {\n        \"dtype\": \"number\",\n        \"std\": 35214.80964003501,\n        \"min\": 90.0,\n        \"max\": 945000.0,\n        \"num_unique_values\": 413,\n        \"samples\": [\n          648.0\n        ],\n        \"semantic_type\": \"\",\n        \"description\": \"\"\n      }\n    },\n    {\n      \"column\": \"\\u0627\\u0644\\u0633\\u0639\\u0631 \\u0627\\u0644\\u0625\\u062c\\u0645\\u0627\\u0644\\u064a\",\n      \"properties\": {\n        \"dtype\": \"number\",\n        \"std\": 31417987,\n        \"min\": 1400,\n        \"max\": 893025000,\n        \"num_unique_values\": 1247,\n        \"samples\": [\n          204750\n        ],\n        \"semantic_type\": \"\",\n        \"description\": \"\"\n      }\n    }\n  ]\n}",
       "type": "dataframe",
       "variable_name": "Riyadh_AqqarLand"
      },
      "text/html": [
       "\n",
       "  <div id=\"df-696b821f-8d59-4421-b4bd-d2f5ecb60ec7\" class=\"colab-df-container\">\n",
       "    <div>\n",
       "<style scoped>\n",
       "    .dataframe tbody tr th:only-of-type {\n",
       "        vertical-align: middle;\n",
       "    }\n",
       "\n",
       "    .dataframe tbody tr th {\n",
       "        vertical-align: top;\n",
       "    }\n",
       "\n",
       "    .dataframe thead th {\n",
       "        text-align: right;\n",
       "    }\n",
       "</style>\n",
       "<table border=\"1\" class=\"dataframe\">\n",
       "  <thead>\n",
       "    <tr style=\"text-align: right;\">\n",
       "      <th></th>\n",
       "      <th>نوع العقار</th>\n",
       "      <th>الغرض</th>\n",
       "      <th>المدينة</th>\n",
       "      <th>الحي</th>\n",
       "      <th>الواجهة</th>\n",
       "      <th>المساحة</th>\n",
       "      <th>سعر المتر</th>\n",
       "      <th>السعر الإجمالي</th>\n",
       "    </tr>\n",
       "  </thead>\n",
       "  <tbody>\n",
       "    <tr>\n",
       "      <th>0</th>\n",
       "      <td>أرض</td>\n",
       "      <td>NaN</td>\n",
       "      <td>امارة منطقة الرياض</td>\n",
       "      <td>الرياض</td>\n",
       "      <td>غربية</td>\n",
       "      <td>375</td>\n",
       "      <td>2900.0</td>\n",
       "      <td>1087500</td>\n",
       "    </tr>\n",
       "  </tbody>\n",
       "</table>\n",
       "</div>\n",
       "    <div class=\"colab-df-buttons\">\n",
       "\n",
       "  <div class=\"colab-df-container\">\n",
       "    <button class=\"colab-df-convert\" onclick=\"convertToInteractive('df-696b821f-8d59-4421-b4bd-d2f5ecb60ec7')\"\n",
       "            title=\"Convert this dataframe to an interactive table.\"\n",
       "            style=\"display:none;\">\n",
       "\n",
       "  <svg xmlns=\"http://www.w3.org/2000/svg\" height=\"24px\" viewBox=\"0 -960 960 960\">\n",
       "    <path d=\"M120-120v-720h720v720H120Zm60-500h600v-160H180v160Zm220 220h160v-160H400v160Zm0 220h160v-160H400v160ZM180-400h160v-160H180v160Zm440 0h160v-160H620v160ZM180-180h160v-160H180v160Zm440 0h160v-160H620v160Z\"/>\n",
       "  </svg>\n",
       "    </button>\n",
       "\n",
       "  <style>\n",
       "    .colab-df-container {\n",
       "      display:flex;\n",
       "      gap: 12px;\n",
       "    }\n",
       "\n",
       "    .colab-df-convert {\n",
       "      background-color: #E8F0FE;\n",
       "      border: none;\n",
       "      border-radius: 50%;\n",
       "      cursor: pointer;\n",
       "      display: none;\n",
       "      fill: #1967D2;\n",
       "      height: 32px;\n",
       "      padding: 0 0 0 0;\n",
       "      width: 32px;\n",
       "    }\n",
       "\n",
       "    .colab-df-convert:hover {\n",
       "      background-color: #E2EBFA;\n",
       "      box-shadow: 0px 1px 2px rgba(60, 64, 67, 0.3), 0px 1px 3px 1px rgba(60, 64, 67, 0.15);\n",
       "      fill: #174EA6;\n",
       "    }\n",
       "\n",
       "    .colab-df-buttons div {\n",
       "      margin-bottom: 4px;\n",
       "    }\n",
       "\n",
       "    [theme=dark] .colab-df-convert {\n",
       "      background-color: #3B4455;\n",
       "      fill: #D2E3FC;\n",
       "    }\n",
       "\n",
       "    [theme=dark] .colab-df-convert:hover {\n",
       "      background-color: #434B5C;\n",
       "      box-shadow: 0px 1px 3px 1px rgba(0, 0, 0, 0.15);\n",
       "      filter: drop-shadow(0px 1px 2px rgba(0, 0, 0, 0.3));\n",
       "      fill: #FFFFFF;\n",
       "    }\n",
       "  </style>\n",
       "\n",
       "    <script>\n",
       "      const buttonEl =\n",
       "        document.querySelector('#df-696b821f-8d59-4421-b4bd-d2f5ecb60ec7 button.colab-df-convert');\n",
       "      buttonEl.style.display =\n",
       "        google.colab.kernel.accessAllowed ? 'block' : 'none';\n",
       "\n",
       "      async function convertToInteractive(key) {\n",
       "        const element = document.querySelector('#df-696b821f-8d59-4421-b4bd-d2f5ecb60ec7');\n",
       "        const dataTable =\n",
       "          await google.colab.kernel.invokeFunction('convertToInteractive',\n",
       "                                                    [key], {});\n",
       "        if (!dataTable) return;\n",
       "\n",
       "        const docLinkHtml = 'Like what you see? Visit the ' +\n",
       "          '<a target=\"_blank\" href=https://colab.research.google.com/notebooks/data_table.ipynb>data table notebook</a>'\n",
       "          + ' to learn more about interactive tables.';\n",
       "        element.innerHTML = '';\n",
       "        dataTable['output_type'] = 'display_data';\n",
       "        await google.colab.output.renderOutput(dataTable, element);\n",
       "        const docLink = document.createElement('div');\n",
       "        docLink.innerHTML = docLinkHtml;\n",
       "        element.appendChild(docLink);\n",
       "      }\n",
       "    </script>\n",
       "  </div>\n",
       "\n",
       "\n",
       "    </div>\n",
       "  </div>\n"
      ],
      "text/plain": [
       "  نوع العقار الغرض              المدينة      الحي الواجهة  المساحة  سعر المتر  \\\n",
       "0        أرض   NaN   امارة منطقة الرياض   الرياض    غربية      375     2900.0   \n",
       "\n",
       "   السعر الإجمالي  \n",
       "0         1087500  "
      ]
     },
     "execution_count": 15,
     "metadata": {},
     "output_type": "execute_result"
    }
   ],
   "source": []
  },
  {
   "cell_type": "code",
   "execution_count": 16,
   "id": "es21bhdUtSvC",
   "metadata": {
    "colab": {
     "base_uri": "https://localhost:8080/",
     "height": 135
    },
    "executionInfo": {
     "elapsed": 477,
     "status": "ok",
     "timestamp": 1729793252378,
     "user": {
      "displayName": "Mamdouh Alsharari",
      "userId": "05698238833697906943"
     },
     "user_tz": -660
    },
    "id": "es21bhdUtSvC",
    "outputId": "2c8b72ac-db3b-4bad-c504-db3843331a9e"
   },
   "outputs": [
    {
     "data": {
      "application/vnd.google.colaboratory.intrinsic+json": {
       "summary": "{\n  \"name\": \"Riyadh_AqqarVillas\",\n  \"rows\": 1090,\n  \"fields\": [\n    {\n      \"column\": \"\\u0646\\u0648\\u0639 \\u0627\\u0644\\u0639\\u0642\\u0627\\u0631\",\n      \"properties\": {\n        \"dtype\": \"category\",\n        \"num_unique_values\": 1,\n        \"samples\": [\n          \"\\u0641\\u064a\\u0644\\u0627\"\n        ],\n        \"semantic_type\": \"\",\n        \"description\": \"\"\n      }\n    },\n    {\n      \"column\": \"\\u0627\\u0644\\u0645\\u062f\\u064a\\u0646\\u0629\",\n      \"properties\": {\n        \"dtype\": \"category\",\n        \"num_unique_values\": 9,\n        \"samples\": [\n          \" \\u062d\\u064a \\u0627\\u0644\\u0639\\u0631\\u064a\\u062c\\u0627\\u0621 \\u0627\\u0644\\u063a\\u0631\\u0628\\u064a\\u0629 \"\n        ],\n        \"semantic_type\": \"\",\n        \"description\": \"\"\n      }\n    },\n    {\n      \"column\": \"\\u0627\\u0644\\u062d\\u064a\",\n      \"properties\": {\n        \"dtype\": \"category\",\n        \"num_unique_values\": 101,\n        \"samples\": [\n          \" \\u062d\\u064a \\u0637\\u064a\\u0628\\u0629 \"\n        ],\n        \"semantic_type\": \"\",\n        \"description\": \"\"\n      }\n    },\n    {\n      \"column\": \"\\u0627\\u0644\\u0648\\u0627\\u062c\\u0647\\u0629\",\n      \"properties\": {\n        \"dtype\": \"category\",\n        \"num_unique_values\": 9,\n        \"samples\": [\n          \"\\u062b\\u0644\\u0627\\u062b \\u0634\\u0648\\u0627\\u0631\\u0639\"\n        ],\n        \"semantic_type\": \"\",\n        \"description\": \"\"\n      }\n    },\n    {\n      \"column\": \"\\u0639\\u062f\\u062f \\u0627\\u0644\\u063a\\u0631\\u0641\",\n      \"properties\": {\n        \"dtype\": \"category\",\n        \"num_unique_values\": 7,\n        \"samples\": [\n          6\n        ],\n        \"semantic_type\": \"\",\n        \"description\": \"\"\n      }\n    },\n    {\n      \"column\": \"\\u0639\\u062f\\u062f \\u0627\\u0644\\u0635\\u0627\\u0644\\u0627\\u062a\",\n      \"properties\": {\n        \"dtype\": \"category\",\n        \"num_unique_values\": 6,\n        \"samples\": [\n          3\n        ],\n        \"semantic_type\": \"\",\n        \"description\": \"\"\n      }\n    },\n    {\n      \"column\": \"\\u0639\\u062f\\u062f \\u0627\\u0644\\u062d\\u0645\\u0627\\u0645\\u0627\\u062a\",\n      \"properties\": {\n        \"dtype\": \"category\",\n        \"num_unique_values\": 5,\n        \"samples\": [\n          4\n        ],\n        \"semantic_type\": \"\",\n        \"description\": \"\"\n      }\n    },\n    {\n      \"column\": \"\\u0639\\u0631\\u0636 \\u0627\\u0644\\u0634\\u0627\\u0631\\u0639\",\n      \"properties\": {\n        \"dtype\": \"number\",\n        \"std\": 4.751819899983959,\n        \"min\": 5.0,\n        \"max\": 40.0,\n        \"num_unique_values\": 16,\n        \"samples\": [\n          15.0\n        ],\n        \"semantic_type\": \"\",\n        \"description\": \"\"\n      }\n    },\n    {\n      \"column\": \"\\u0627\\u0644\\u0645\\u0633\\u0627\\u062d\\u0629\",\n      \"properties\": {\n        \"dtype\": \"number\",\n        \"std\": 1399.036552753599,\n        \"min\": 25.0,\n        \"max\": 32020.0,\n        \"num_unique_values\": 217,\n        \"samples\": [\n          205.0\n        ],\n        \"semantic_type\": \"\",\n        \"description\": \"\"\n      }\n    },\n    {\n      \"column\": \"\\u062f\\u0631\\u062c \\u0635\\u0627\\u0644\\u0629\",\n      \"properties\": {\n        \"dtype\": \"number\",\n        \"std\": 0,\n        \"min\": 0,\n        \"max\": 1,\n        \"num_unique_values\": 2,\n        \"samples\": [\n          0\n        ],\n        \"semantic_type\": \"\",\n        \"description\": \"\"\n      }\n    },\n    {\n      \"column\": \"\\u0645\\u0637\\u0628\\u062e\",\n      \"properties\": {\n        \"dtype\": \"number\",\n        \"std\": 0,\n        \"min\": 0,\n        \"max\": 1,\n        \"num_unique_values\": 2,\n        \"samples\": [\n          0\n        ],\n        \"semantic_type\": \"\",\n        \"description\": \"\"\n      }\n    },\n    {\n      \"column\": \"\\u063a\\u0631\\u0641\\u0629 \\u062e\\u0627\\u062f\\u0645\\u0629\",\n      \"properties\": {\n        \"dtype\": \"number\",\n        \"std\": 0,\n        \"min\": 0,\n        \"max\": 1,\n        \"num_unique_values\": 2,\n        \"samples\": [\n          0\n        ],\n        \"semantic_type\": \"\",\n        \"description\": \"\"\n      }\n    },\n    {\n      \"column\": \"\\u063a\\u0631\\u0641\\u0629 \\u0633\\u0627\\u0626\\u0642\",\n      \"properties\": {\n        \"dtype\": \"number\",\n        \"std\": 0,\n        \"min\": 0,\n        \"max\": 1,\n        \"num_unique_values\": 2,\n        \"samples\": [\n          0\n        ],\n        \"semantic_type\": \"\",\n        \"description\": \"\"\n      }\n    },\n    {\n      \"column\": \"\\u0645\\u0644\\u062d\\u0642\",\n      \"properties\": {\n        \"dtype\": \"number\",\n        \"std\": 0,\n        \"min\": 0,\n        \"max\": 1,\n        \"num_unique_values\": 2,\n        \"samples\": [\n          1\n        ],\n        \"semantic_type\": \"\",\n        \"description\": \"\"\n      }\n    },\n    {\n      \"column\": \"\\u062d\\u0648\\u0634\",\n      \"properties\": {\n        \"dtype\": \"number\",\n        \"std\": 0,\n        \"min\": 0,\n        \"max\": 1,\n        \"num_unique_values\": 2,\n        \"samples\": [\n          0\n        ],\n        \"semantic_type\": \"\",\n        \"description\": \"\"\n      }\n    },\n    {\n      \"column\": \"\\u0645\\u0633\\u0628\\u062d\",\n      \"properties\": {\n        \"dtype\": \"number\",\n        \"std\": 0,\n        \"min\": 0,\n        \"max\": 1,\n        \"num_unique_values\": 2,\n        \"samples\": [\n          1\n        ],\n        \"semantic_type\": \"\",\n        \"description\": \"\"\n      }\n    },\n    {\n      \"column\": \"\\u0642\\u0628\\u0648\",\n      \"properties\": {\n        \"dtype\": \"number\",\n        \"std\": 0,\n        \"min\": 0,\n        \"max\": 1,\n        \"num_unique_values\": 2,\n        \"samples\": [\n          1\n        ],\n        \"semantic_type\": \"\",\n        \"description\": \"\"\n      }\n    },\n    {\n      \"column\": \"\\u0645\\u062f\\u062e\\u0644 \\u0633\\u064a\\u0627\\u0631\\u0629\",\n      \"properties\": {\n        \"dtype\": \"number\",\n        \"std\": 0,\n        \"min\": 0,\n        \"max\": 1,\n        \"num_unique_values\": 2,\n        \"samples\": [\n          0\n        ],\n        \"semantic_type\": \"\",\n        \"description\": \"\"\n      }\n    },\n    {\n      \"column\": \"\\u0645\\u0635\\u0639\\u062f\",\n      \"properties\": {\n        \"dtype\": \"number\",\n        \"std\": 0,\n        \"min\": 0,\n        \"max\": 1,\n        \"num_unique_values\": 2,\n        \"samples\": [\n          0\n        ],\n        \"semantic_type\": \"\",\n        \"description\": \"\"\n      }\n    },\n    {\n      \"column\": \"\\u0627\\u0644\\u0633\\u0639\\u0631 \\u0627\\u0644\\u0627\\u062c\\u0645\\u0627\\u0644\\u064a\",\n      \"properties\": {\n        \"dtype\": \"number\",\n        \"std\": 2092205,\n        \"min\": 300000,\n        \"max\": 22500000,\n        \"num_unique_values\": 175,\n        \"samples\": [\n          840000\n        ],\n        \"semantic_type\": \"\",\n        \"description\": \"\"\n      }\n    }\n  ]\n}",
       "type": "dataframe",
       "variable_name": "Riyadh_AqqarVillas"
      },
      "text/html": [
       "\n",
       "  <div id=\"df-16eac27c-9440-4b88-a46e-ca0556e341a1\" class=\"colab-df-container\">\n",
       "    <div>\n",
       "<style scoped>\n",
       "    .dataframe tbody tr th:only-of-type {\n",
       "        vertical-align: middle;\n",
       "    }\n",
       "\n",
       "    .dataframe tbody tr th {\n",
       "        vertical-align: top;\n",
       "    }\n",
       "\n",
       "    .dataframe thead th {\n",
       "        text-align: right;\n",
       "    }\n",
       "</style>\n",
       "<table border=\"1\" class=\"dataframe\">\n",
       "  <thead>\n",
       "    <tr style=\"text-align: right;\">\n",
       "      <th></th>\n",
       "      <th>نوع العقار</th>\n",
       "      <th>المدينة</th>\n",
       "      <th>الحي</th>\n",
       "      <th>الواجهة</th>\n",
       "      <th>عدد الغرف</th>\n",
       "      <th>عدد الصالات</th>\n",
       "      <th>عدد الحمامات</th>\n",
       "      <th>عرض الشارع</th>\n",
       "      <th>المساحة</th>\n",
       "      <th>درج صالة</th>\n",
       "      <th>مطبخ</th>\n",
       "      <th>غرفة خادمة</th>\n",
       "      <th>غرفة سائق</th>\n",
       "      <th>ملحق</th>\n",
       "      <th>حوش</th>\n",
       "      <th>مسبح</th>\n",
       "      <th>قبو</th>\n",
       "      <th>مدخل سيارة</th>\n",
       "      <th>مصعد</th>\n",
       "      <th>السعر الاجمالي</th>\n",
       "    </tr>\n",
       "  </thead>\n",
       "  <tbody>\n",
       "    <tr>\n",
       "      <th>0</th>\n",
       "      <td>فيلا</td>\n",
       "      <td>الرياض</td>\n",
       "      <td>حي العارض</td>\n",
       "      <td>جنوبية</td>\n",
       "      <td>6</td>\n",
       "      <td>3</td>\n",
       "      <td>5+</td>\n",
       "      <td>NaN</td>\n",
       "      <td>244.0</td>\n",
       "      <td>1</td>\n",
       "      <td>1</td>\n",
       "      <td>1</td>\n",
       "      <td>1</td>\n",
       "      <td>0</td>\n",
       "      <td>1</td>\n",
       "      <td>0</td>\n",
       "      <td>0</td>\n",
       "      <td>1</td>\n",
       "      <td>1</td>\n",
       "      <td>2300000</td>\n",
       "    </tr>\n",
       "  </tbody>\n",
       "</table>\n",
       "</div>\n",
       "    <div class=\"colab-df-buttons\">\n",
       "\n",
       "  <div class=\"colab-df-container\">\n",
       "    <button class=\"colab-df-convert\" onclick=\"convertToInteractive('df-16eac27c-9440-4b88-a46e-ca0556e341a1')\"\n",
       "            title=\"Convert this dataframe to an interactive table.\"\n",
       "            style=\"display:none;\">\n",
       "\n",
       "  <svg xmlns=\"http://www.w3.org/2000/svg\" height=\"24px\" viewBox=\"0 -960 960 960\">\n",
       "    <path d=\"M120-120v-720h720v720H120Zm60-500h600v-160H180v160Zm220 220h160v-160H400v160Zm0 220h160v-160H400v160ZM180-400h160v-160H180v160Zm440 0h160v-160H620v160ZM180-180h160v-160H180v160Zm440 0h160v-160H620v160Z\"/>\n",
       "  </svg>\n",
       "    </button>\n",
       "\n",
       "  <style>\n",
       "    .colab-df-container {\n",
       "      display:flex;\n",
       "      gap: 12px;\n",
       "    }\n",
       "\n",
       "    .colab-df-convert {\n",
       "      background-color: #E8F0FE;\n",
       "      border: none;\n",
       "      border-radius: 50%;\n",
       "      cursor: pointer;\n",
       "      display: none;\n",
       "      fill: #1967D2;\n",
       "      height: 32px;\n",
       "      padding: 0 0 0 0;\n",
       "      width: 32px;\n",
       "    }\n",
       "\n",
       "    .colab-df-convert:hover {\n",
       "      background-color: #E2EBFA;\n",
       "      box-shadow: 0px 1px 2px rgba(60, 64, 67, 0.3), 0px 1px 3px 1px rgba(60, 64, 67, 0.15);\n",
       "      fill: #174EA6;\n",
       "    }\n",
       "\n",
       "    .colab-df-buttons div {\n",
       "      margin-bottom: 4px;\n",
       "    }\n",
       "\n",
       "    [theme=dark] .colab-df-convert {\n",
       "      background-color: #3B4455;\n",
       "      fill: #D2E3FC;\n",
       "    }\n",
       "\n",
       "    [theme=dark] .colab-df-convert:hover {\n",
       "      background-color: #434B5C;\n",
       "      box-shadow: 0px 1px 3px 1px rgba(0, 0, 0, 0.15);\n",
       "      filter: drop-shadow(0px 1px 2px rgba(0, 0, 0, 0.3));\n",
       "      fill: #FFFFFF;\n",
       "    }\n",
       "  </style>\n",
       "\n",
       "    <script>\n",
       "      const buttonEl =\n",
       "        document.querySelector('#df-16eac27c-9440-4b88-a46e-ca0556e341a1 button.colab-df-convert');\n",
       "      buttonEl.style.display =\n",
       "        google.colab.kernel.accessAllowed ? 'block' : 'none';\n",
       "\n",
       "      async function convertToInteractive(key) {\n",
       "        const element = document.querySelector('#df-16eac27c-9440-4b88-a46e-ca0556e341a1');\n",
       "        const dataTable =\n",
       "          await google.colab.kernel.invokeFunction('convertToInteractive',\n",
       "                                                    [key], {});\n",
       "        if (!dataTable) return;\n",
       "\n",
       "        const docLinkHtml = 'Like what you see? Visit the ' +\n",
       "          '<a target=\"_blank\" href=https://colab.research.google.com/notebooks/data_table.ipynb>data table notebook</a>'\n",
       "          + ' to learn more about interactive tables.';\n",
       "        element.innerHTML = '';\n",
       "        dataTable['output_type'] = 'display_data';\n",
       "        await google.colab.output.renderOutput(dataTable, element);\n",
       "        const docLink = document.createElement('div');\n",
       "        docLink.innerHTML = docLinkHtml;\n",
       "        element.appendChild(docLink);\n",
       "      }\n",
       "    </script>\n",
       "  </div>\n",
       "\n",
       "\n",
       "    </div>\n",
       "  </div>\n"
      ],
      "text/plain": [
       "  نوع العقار   المدينة         الحي الواجهة عدد الغرف عدد الصالات  \\\n",
       "0       فيلا   الرياض    حي العارض   جنوبية         6           3   \n",
       "\n",
       "  عدد الحمامات  عرض الشارع  المساحة  درج صالة  مطبخ  غرفة خادمة  غرفة سائق  \\\n",
       "0           5+         NaN    244.0         1     1           1          1   \n",
       "\n",
       "   ملحق  حوش  مسبح  قبو  مدخل سيارة  مصعد  السعر الاجمالي  \n",
       "0     0    1     0    0           1     1         2300000  "
      ]
     },
     "execution_count": 16,
     "metadata": {},
     "output_type": "execute_result"
    }
   ],
   "source": []
  },
  {
   "cell_type": "code",
   "execution_count": 17,
   "id": "sSls8eEctSvC",
   "metadata": {
    "colab": {
     "base_uri": "https://localhost:8080/",
     "height": 115
    },
    "executionInfo": {
     "elapsed": 483,
     "status": "ok",
     "timestamp": 1729793263296,
     "user": {
      "displayName": "Mamdouh Alsharari",
      "userId": "05698238833697906943"
     },
     "user_tz": -660
    },
    "id": "sSls8eEctSvC",
    "outputId": "b67bc50b-1d1e-4b51-914e-e82d06cdd696"
   },
   "outputs": [
    {
     "data": {
      "application/vnd.google.colaboratory.intrinsic+json": {
       "summary": "{\n  \"name\": \"Riyadh_AqqarApartments\",\n  \"rows\": 551,\n  \"fields\": [\n    {\n      \"column\": \"\\u0646\\u0648\\u0639 \\u0627\\u0644\\u0639\\u0642\\u0627\\u0631\",\n      \"properties\": {\n        \"dtype\": \"category\",\n        \"num_unique_values\": 1,\n        \"samples\": [\n          \"\\u0634\\u0642\\u0629\"\n        ],\n        \"semantic_type\": \"\",\n        \"description\": \"\"\n      }\n    },\n    {\n      \"column\": \"\\u0627\\u0644\\u0645\\u062f\\u064a\\u0646\\u0629\",\n      \"properties\": {\n        \"dtype\": \"category\",\n        \"num_unique_values\": 5,\n        \"samples\": [\n          \" \\u0645\\u0646\\u0637\\u0642\\u0629 \\u0627\\u0644\\u0631\\u064a\\u0627\\u0636\"\n        ],\n        \"semantic_type\": \"\",\n        \"description\": \"\"\n      }\n    },\n    {\n      \"column\": \"\\u0627\\u0644\\u062d\\u064a\",\n      \"properties\": {\n        \"dtype\": \"category\",\n        \"num_unique_values\": 26,\n        \"samples\": [\n          \" \\u0627\\u0644\\u0631\\u064a\\u0627\\u0636 \"\n        ],\n        \"semantic_type\": \"\",\n        \"description\": \"\"\n      }\n    },\n    {\n      \"column\": \"\\u0627\\u0644\\u0648\\u0627\\u062c\\u0647\\u0629\",\n      \"properties\": {\n        \"dtype\": \"category\",\n        \"num_unique_values\": 9,\n        \"samples\": [\n          \"\\u062c\\u0646\\u0648\\u0628\\u064a\\u0629 \\u063a\\u0631\\u0628\\u064a\\u0629\"\n        ],\n        \"semantic_type\": \"\",\n        \"description\": \"\"\n      }\n    },\n    {\n      \"column\": \"\\u0639\\u062f\\u062f \\u0627\\u0644\\u063a\\u0631\\u0641\",\n      \"properties\": {\n        \"dtype\": \"number\",\n        \"std\": 0,\n        \"min\": 1,\n        \"max\": 6,\n        \"num_unique_values\": 6,\n        \"samples\": [\n          4\n        ],\n        \"semantic_type\": \"\",\n        \"description\": \"\"\n      }\n    },\n    {\n      \"column\": \"\\u0639\\u062f\\u062f \\u0627\\u0644\\u0635\\u0627\\u0644\\u0627\\u062a\",\n      \"properties\": {\n        \"dtype\": \"number\",\n        \"std\": 0.4436941705864403,\n        \"min\": 1.0,\n        \"max\": 3.0,\n        \"num_unique_values\": 3,\n        \"samples\": [\n          1.0\n        ],\n        \"semantic_type\": \"\",\n        \"description\": \"\"\n      }\n    },\n    {\n      \"column\": \"\\u0639\\u062f\\u062f \\u0627\\u0644\\u062d\\u0645\\u0627\\u0645\\u0627\\u062a\",\n      \"properties\": {\n        \"dtype\": \"category\",\n        \"num_unique_values\": 5,\n        \"samples\": [\n          2\n        ],\n        \"semantic_type\": \"\",\n        \"description\": \"\"\n      }\n    },\n    {\n      \"column\": \"\\u0627\\u0644\\u0645\\u0633\\u0627\\u062d\\u0629\",\n      \"properties\": {\n        \"dtype\": \"number\",\n        \"std\": 41,\n        \"min\": 43,\n        \"max\": 428,\n        \"num_unique_values\": 130,\n        \"samples\": [\n          210\n        ],\n        \"semantic_type\": \"\",\n        \"description\": \"\"\n      }\n    },\n    {\n      \"column\": \"\\u0645\\u0637\\u0628\\u062e\",\n      \"properties\": {\n        \"dtype\": \"number\",\n        \"std\": 0,\n        \"min\": 0,\n        \"max\": 1,\n        \"num_unique_values\": 2,\n        \"samples\": [\n          0\n        ],\n        \"semantic_type\": \"\",\n        \"description\": \"\"\n      }\n    },\n    {\n      \"column\": \"\\u0645\\u062f\\u062e\\u0644 \\u0633\\u064a\\u0627\\u0631\\u0629\",\n      \"properties\": {\n        \"dtype\": \"number\",\n        \"std\": 0,\n        \"min\": 0,\n        \"max\": 1,\n        \"num_unique_values\": 2,\n        \"samples\": [\n          1\n        ],\n        \"semantic_type\": \"\",\n        \"description\": \"\"\n      }\n    },\n    {\n      \"column\": \"\\u0645\\u0635\\u0639\\u062f\",\n      \"properties\": {\n        \"dtype\": \"number\",\n        \"std\": 0,\n        \"min\": 0,\n        \"max\": 1,\n        \"num_unique_values\": 2,\n        \"samples\": [\n          0\n        ],\n        \"semantic_type\": \"\",\n        \"description\": \"\"\n      }\n    },\n    {\n      \"column\": \"\\u0627\\u0644\\u062f\\u0648\\u0631\",\n      \"properties\": {\n        \"dtype\": \"category\",\n        \"num_unique_values\": 10,\n        \"samples\": [\n          \"20+\"\n        ],\n        \"semantic_type\": \"\",\n        \"description\": \"\"\n      }\n    },\n    {\n      \"column\": \"\\u0639\\u0645\\u0631 \\u0627\\u0644\\u0639\\u0642\\u0627\\u0631\",\n      \"properties\": {\n        \"dtype\": \"number\",\n        \"std\": 2.955740189231141,\n        \"min\": 0.0,\n        \"max\": 13.0,\n        \"num_unique_values\": 14,\n        \"samples\": [\n          4.0\n        ],\n        \"semantic_type\": \"\",\n        \"description\": \"\"\n      }\n    },\n    {\n      \"column\": \"\\u0645\\u0624\\u062b\\u062b\\u0629\",\n      \"properties\": {\n        \"dtype\": \"number\",\n        \"std\": 0,\n        \"min\": 0,\n        \"max\": 1,\n        \"num_unique_values\": 2,\n        \"samples\": [\n          1\n        ],\n        \"semantic_type\": \"\",\n        \"description\": \"\"\n      }\n    },\n    {\n      \"column\": \"\\u0627\\u0644\\u0633\\u0639\\u0631 \\u0627\\u0644\\u0627\\u062c\\u0645\\u0627\\u0644\\u064a\",\n      \"properties\": {\n        \"dtype\": \"number\",\n        \"std\": 331582,\n        \"min\": 700000,\n        \"max\": 3500000,\n        \"num_unique_values\": 137,\n        \"samples\": [\n          1064000\n        ],\n        \"semantic_type\": \"\",\n        \"description\": \"\"\n      }\n    }\n  ]\n}",
       "type": "dataframe",
       "variable_name": "Riyadh_AqqarApartments"
      },
      "text/html": [
       "\n",
       "  <div id=\"df-55578e94-9a56-4ce3-bb12-096edabef534\" class=\"colab-df-container\">\n",
       "    <div>\n",
       "<style scoped>\n",
       "    .dataframe tbody tr th:only-of-type {\n",
       "        vertical-align: middle;\n",
       "    }\n",
       "\n",
       "    .dataframe tbody tr th {\n",
       "        vertical-align: top;\n",
       "    }\n",
       "\n",
       "    .dataframe thead th {\n",
       "        text-align: right;\n",
       "    }\n",
       "</style>\n",
       "<table border=\"1\" class=\"dataframe\">\n",
       "  <thead>\n",
       "    <tr style=\"text-align: right;\">\n",
       "      <th></th>\n",
       "      <th>نوع العقار</th>\n",
       "      <th>المدينة</th>\n",
       "      <th>الحي</th>\n",
       "      <th>الواجهة</th>\n",
       "      <th>عدد الغرف</th>\n",
       "      <th>عدد الصالات</th>\n",
       "      <th>عدد الحمامات</th>\n",
       "      <th>المساحة</th>\n",
       "      <th>مطبخ</th>\n",
       "      <th>مدخل سيارة</th>\n",
       "      <th>مصعد</th>\n",
       "      <th>الدور</th>\n",
       "      <th>عمر العقار</th>\n",
       "      <th>مؤثثة</th>\n",
       "      <th>السعر الاجمالي</th>\n",
       "    </tr>\n",
       "  </thead>\n",
       "  <tbody>\n",
       "    <tr>\n",
       "      <th>0</th>\n",
       "      <td>شقة</td>\n",
       "      <td>الرياض</td>\n",
       "      <td>حي المروج</td>\n",
       "      <td>جنوبية</td>\n",
       "      <td>4</td>\n",
       "      <td>1.0</td>\n",
       "      <td>3</td>\n",
       "      <td>249</td>\n",
       "      <td>1</td>\n",
       "      <td>0</td>\n",
       "      <td>1</td>\n",
       "      <td>3</td>\n",
       "      <td>0.0</td>\n",
       "      <td>0</td>\n",
       "      <td>1434000</td>\n",
       "    </tr>\n",
       "  </tbody>\n",
       "</table>\n",
       "</div>\n",
       "    <div class=\"colab-df-buttons\">\n",
       "\n",
       "  <div class=\"colab-df-container\">\n",
       "    <button class=\"colab-df-convert\" onclick=\"convertToInteractive('df-55578e94-9a56-4ce3-bb12-096edabef534')\"\n",
       "            title=\"Convert this dataframe to an interactive table.\"\n",
       "            style=\"display:none;\">\n",
       "\n",
       "  <svg xmlns=\"http://www.w3.org/2000/svg\" height=\"24px\" viewBox=\"0 -960 960 960\">\n",
       "    <path d=\"M120-120v-720h720v720H120Zm60-500h600v-160H180v160Zm220 220h160v-160H400v160Zm0 220h160v-160H400v160ZM180-400h160v-160H180v160Zm440 0h160v-160H620v160ZM180-180h160v-160H180v160Zm440 0h160v-160H620v160Z\"/>\n",
       "  </svg>\n",
       "    </button>\n",
       "\n",
       "  <style>\n",
       "    .colab-df-container {\n",
       "      display:flex;\n",
       "      gap: 12px;\n",
       "    }\n",
       "\n",
       "    .colab-df-convert {\n",
       "      background-color: #E8F0FE;\n",
       "      border: none;\n",
       "      border-radius: 50%;\n",
       "      cursor: pointer;\n",
       "      display: none;\n",
       "      fill: #1967D2;\n",
       "      height: 32px;\n",
       "      padding: 0 0 0 0;\n",
       "      width: 32px;\n",
       "    }\n",
       "\n",
       "    .colab-df-convert:hover {\n",
       "      background-color: #E2EBFA;\n",
       "      box-shadow: 0px 1px 2px rgba(60, 64, 67, 0.3), 0px 1px 3px 1px rgba(60, 64, 67, 0.15);\n",
       "      fill: #174EA6;\n",
       "    }\n",
       "\n",
       "    .colab-df-buttons div {\n",
       "      margin-bottom: 4px;\n",
       "    }\n",
       "\n",
       "    [theme=dark] .colab-df-convert {\n",
       "      background-color: #3B4455;\n",
       "      fill: #D2E3FC;\n",
       "    }\n",
       "\n",
       "    [theme=dark] .colab-df-convert:hover {\n",
       "      background-color: #434B5C;\n",
       "      box-shadow: 0px 1px 3px 1px rgba(0, 0, 0, 0.15);\n",
       "      filter: drop-shadow(0px 1px 2px rgba(0, 0, 0, 0.3));\n",
       "      fill: #FFFFFF;\n",
       "    }\n",
       "  </style>\n",
       "\n",
       "    <script>\n",
       "      const buttonEl =\n",
       "        document.querySelector('#df-55578e94-9a56-4ce3-bb12-096edabef534 button.colab-df-convert');\n",
       "      buttonEl.style.display =\n",
       "        google.colab.kernel.accessAllowed ? 'block' : 'none';\n",
       "\n",
       "      async function convertToInteractive(key) {\n",
       "        const element = document.querySelector('#df-55578e94-9a56-4ce3-bb12-096edabef534');\n",
       "        const dataTable =\n",
       "          await google.colab.kernel.invokeFunction('convertToInteractive',\n",
       "                                                    [key], {});\n",
       "        if (!dataTable) return;\n",
       "\n",
       "        const docLinkHtml = 'Like what you see? Visit the ' +\n",
       "          '<a target=\"_blank\" href=https://colab.research.google.com/notebooks/data_table.ipynb>data table notebook</a>'\n",
       "          + ' to learn more about interactive tables.';\n",
       "        element.innerHTML = '';\n",
       "        dataTable['output_type'] = 'display_data';\n",
       "        await google.colab.output.renderOutput(dataTable, element);\n",
       "        const docLink = document.createElement('div');\n",
       "        docLink.innerHTML = docLinkHtml;\n",
       "        element.appendChild(docLink);\n",
       "      }\n",
       "    </script>\n",
       "  </div>\n",
       "\n",
       "\n",
       "    </div>\n",
       "  </div>\n"
      ],
      "text/plain": [
       "  نوع العقار   المدينة         الحي الواجهة  عدد الغرف  عدد الصالات  \\\n",
       "0        شقة   الرياض    حي المروج   جنوبية          4          1.0   \n",
       "\n",
       "  عدد الحمامات  المساحة  مطبخ  مدخل سيارة  مصعد الدور  عمر العقار  مؤثثة  \\\n",
       "0            3      249     1           0     1     3         0.0      0   \n",
       "\n",
       "   السعر الاجمالي  \n",
       "0         1434000  "
      ]
     },
     "execution_count": 17,
     "metadata": {},
     "output_type": "execute_result"
    }
   ],
   "source": []
  },
  {
   "cell_type": "markdown",
   "id": "3a9954f5-6fbc-45b4-ad86-3e21b6e0ca2d",
   "metadata": {
    "id": "3a9954f5-6fbc-45b4-ad86-3e21b6e0ca2d"
   },
   "source": [
    "### Data Quality Checks\n",
    "Data quality checks involve the process of ensuring that the data is accurate, complete, consistent, relevant, and reliable.\n",
    "\n",
    "\n",
    "**Here are typical steps involved in checking data quality:**"
   ]
  },
  {
   "cell_type": "markdown",
   "id": "4818c876-173d-4e56-9e7d-b4334d2def25",
   "metadata": {
    "id": "4818c876-173d-4e56-9e7d-b4334d2def25"
   },
   "source": [
    "#### 1. Reliability:\n",
    "Evaluate the data's source and collection process to determine its trustworthiness."
   ]
  },
  {
   "cell_type": "code",
   "execution_count": null,
   "id": "9034ae7b-dc1d-4cba-8f9e-bb499d021cde",
   "metadata": {
    "id": "9034ae7b-dc1d-4cba-8f9e-bb499d021cde"
   },
   "outputs": [],
   "source": [
    "#THE source not sure reliabilty because it is unknown in kaggle"
   ]
  },
  {
   "cell_type": "markdown",
   "id": "2ce0cc59-8c92-4acc-8d07-c40764e1a86b",
   "metadata": {
    "id": "2ce0cc59-8c92-4acc-8d07-c40764e1a86b"
   },
   "source": [
    "#### 2. Timeliness:\n",
    "Ensure the data is up-to-date and reflective of the current situation or the period of interest for the analysis."
   ]
  },
  {
   "cell_type": "code",
   "execution_count": null,
   "id": "4b78ae35-7226-4cb6-b8b2-a46c2ed17cf9",
   "metadata": {
    "id": "4b78ae35-7226-4cb6-b8b2-a46c2ed17cf9"
   },
   "outputs": [],
   "source": [
    "#it is up to date"
   ]
  },
  {
   "cell_type": "markdown",
   "id": "7fab0fe2-6624-4615-b9d8-3c3669056bf8",
   "metadata": {
    "id": "7fab0fe2-6624-4615-b9d8-3c3669056bf8"
   },
   "source": [
    "#### 3. Consistency:\n",
    "\n",
    "Confirm that the data is consistent within the dataset and across multiple data sources. For example, the same data point should not have different values in different places.\n"
   ]
  },
  {
   "cell_type": "code",
   "execution_count": null,
   "id": "7fecc573-959f-4800-8ddd-a67985c68b18",
   "metadata": {
    "id": "7fecc573-959f-4800-8ddd-a67985c68b18"
   },
   "outputs": [],
   "source": [
    "#no need to satisfy consistency because no need to merge the multible source"
   ]
  },
  {
   "cell_type": "markdown",
   "id": "bec3d183-bba0-4b12-b963-487daab1e876",
   "metadata": {
    "id": "bec3d183-bba0-4b12-b963-487daab1e876"
   },
   "source": [
    "#### 4. Relevance:\n",
    "Assess whether the data is appropriate and applicable for the intended analysis. Data that is not relevant can skew results and lead to incorrect conclusions.\n",
    "\n",
    "**Key considerations for relevance include:**\n",
    "\n",
    "> 1. Sample Appropriateness: Confirm that your data sample aligns with your analysis objectives. For instance, utilizing data from the Northern region will not yield accurate insights for the Western region of the Kingdom.\n",
    ">\n",
    "> 2. Variable Selection: Any column will not be relevant for our analysis, we can get rid of these using the drop() method. We will set the “axis” argument to 1 since we’re dealing with columns, and set the “inplace” argument to True to make the change permanent.\n"
   ]
  },
  {
   "cell_type": "code",
   "execution_count": null,
   "id": "50a934b7-a0cd-443f-8a27-f10e9a6e8647",
   "metadata": {
    "id": "50a934b7-a0cd-443f-8a27-f10e9a6e8647",
    "scrolled": true
   },
   "outputs": [],
   "source": [
    "#the data set relevent to the objective \n",
    "# i need to drop some columns which not revelent to my objective\n",
    "realEstate2=realEstate.drop(columns=['user_id','id','imgs','refresh','content','last_update','width','length','profileImg','location','UserName','onMarket','iam_verified','advertiser_type','create_time','area'])\n",
    "realEstate2"
   ]
  },
  {
   "cell_type": "markdown",
   "id": "0f5e3a2a-bbb7-4d06-8220-c93277b70146",
   "metadata": {
    "id": "0f5e3a2a-bbb7-4d06-8220-c93277b70146"
   },
   "source": [
    "#### 5. Uniqueness:\n",
    "Check for and remove duplicate records to prevent skewed analysis results.\n"
   ]
  },
  {
   "cell_type": "code",
   "execution_count": null,
   "id": "a509a7aa-58f4-4d39-8eb8-e8298a21f2a7",
   "metadata": {
    "id": "a509a7aa-58f4-4d39-8eb8-e8298a21f2a7"
   },
   "outputs": [],
   "source": [
    "realEstate2[realEstate2.duplicated()]"
   ]
  },
  {
   "cell_type": "code",
   "execution_count": null,
   "id": "04c62559-3b48-48cf-a4e9-857e2e0ff416",
   "metadata": {
    "id": "04c62559-3b48-48cf-a4e9-857e2e0ff416"
   },
   "outputs": [],
   "source": [
    "# no need to delete duplicates  because there is not duplicated rows"
   ]
  },
  {
   "cell_type": "markdown",
   "id": "c7724ac2-4ea2-4cf4-a9e0-e64368f87b92",
   "metadata": {
    "id": "c7724ac2-4ea2-4cf4-a9e0-e64368f87b92"
   },
   "source": [
    "#### 6. Completeness:\n",
    "Ensure that no critical data is missing. This might mean checking for null values or required fields that are empty.\n",
    "\n",
    "We will start by checking the dataset for missing or null values. For this, we can use the isna() method which returns a dataframe of boolean values indicating if a field is null or not. To group all missing values by column, we can include the sum() method."
   ]
  },
  {
   "cell_type": "code",
   "execution_count": null,
   "id": "48a4de54-a344-4b94-9908-9528c15c13f7",
   "metadata": {
    "id": "48a4de54-a344-4b94-9908-9528c15c13f7"
   },
   "outputs": [],
   "source": [
    "#Display number missing values per column\n",
    "realEstate2.isnull().sum()"
   ]
  },
  {
   "cell_type": "code",
   "execution_count": 23,
   "id": "abec31c4-0904-4b73-8cee-b7bc14ab1e67",
   "metadata": {
    "id": "abec31c4-0904-4b73-8cee-b7bc14ab1e67"
   },
   "outputs": [
    {
     "name": "stderr",
     "output_type": "stream",
     "text": [
      "C:\\Users\\Eknjz\\AppData\\Local\\Temp\\ipykernel_28004\\2935098502.py:2: FutureWarning: A value is trying to be set on a copy of a DataFrame or Series through chained assignment using an inplace method.\n",
      "The behavior will change in pandas 3.0. This inplace method will never work because the intermediate object on which we are setting values always behaves as a copy.\n",
      "\n",
      "For example, when doing 'df[col].method(value, inplace=True)', try using 'df.method({col: value}, inplace=True)' or df[col] = df[col].method(value) instead, to perform the operation inplace on the original object.\n",
      "\n",
      "\n",
      "  realEstate2['age'].fillna(0,inplace=True)\n",
      "C:\\Users\\Eknjz\\AppData\\Local\\Temp\\ipykernel_28004\\2935098502.py:3: FutureWarning: A value is trying to be set on a copy of a DataFrame or Series through chained assignment using an inplace method.\n",
      "The behavior will change in pandas 3.0. This inplace method will never work because the intermediate object on which we are setting values always behaves as a copy.\n",
      "\n",
      "For example, when doing 'df[col].method(value, inplace=True)', try using 'df.method({col: value}, inplace=True)' or df[col] = df[col].method(value) instead, to perform the operation inplace on the original object.\n",
      "\n",
      "\n",
      "  realEstate2['ketchen'].fillna(0,inplace=True)\n",
      "C:\\Users\\Eknjz\\AppData\\Local\\Temp\\ipykernel_28004\\2935098502.py:4: FutureWarning: A value is trying to be set on a copy of a DataFrame or Series through chained assignment using an inplace method.\n",
      "The behavior will change in pandas 3.0. This inplace method will never work because the intermediate object on which we are setting values always behaves as a copy.\n",
      "\n",
      "For example, when doing 'df[col].method(value, inplace=True)', try using 'df.method({col: value}, inplace=True)' or df[col] = df[col].method(value) instead, to perform the operation inplace on the original object.\n",
      "\n",
      "\n",
      "  realEstate2['review'].fillna(0,inplace=True)\n",
      "C:\\Users\\Eknjz\\AppData\\Local\\Temp\\ipykernel_28004\\2935098502.py:5: FutureWarning: A value is trying to be set on a copy of a DataFrame or Series through chained assignment using an inplace method.\n",
      "The behavior will change in pandas 3.0. This inplace method will never work because the intermediate object on which we are setting values always behaves as a copy.\n",
      "\n",
      "For example, when doing 'df[col].method(value, inplace=True)', try using 'df.method({col: value}, inplace=True)' or df[col] = df[col].method(value) instead, to perform the operation inplace on the original object.\n",
      "\n",
      "\n",
      "  realEstate2['furnished'].fillna(0,inplace=True)\n",
      "C:\\Users\\Eknjz\\AppData\\Local\\Temp\\ipykernel_28004\\2935098502.py:6: FutureWarning: A value is trying to be set on a copy of a DataFrame or Series through chained assignment using an inplace method.\n",
      "The behavior will change in pandas 3.0. This inplace method will never work because the intermediate object on which we are setting values always behaves as a copy.\n",
      "\n",
      "For example, when doing 'df[col].method(value, inplace=True)', try using 'df.method({col: value}, inplace=True)' or df[col] = df[col].method(value) instead, to perform the operation inplace on the original object.\n",
      "\n",
      "\n",
      "  realEstate2['ac'].fillna(0,inplace=True)\n",
      "C:\\Users\\Eknjz\\AppData\\Local\\Temp\\ipykernel_28004\\2935098502.py:7: FutureWarning: A value is trying to be set on a copy of a DataFrame or Series through chained assignment using an inplace method.\n",
      "The behavior will change in pandas 3.0. This inplace method will never work because the intermediate object on which we are setting values always behaves as a copy.\n",
      "\n",
      "For example, when doing 'df[col].method(value, inplace=True)', try using 'df.method({col: value}, inplace=True)' or df[col] = df[col].method(value) instead, to perform the operation inplace on the original object.\n",
      "\n",
      "\n",
      "  realEstate2['street_width'].fillna(0,inplace=True)\n"
     ]
    }
   ],
   "source": [
    "realEstate2['livings'].fillna(0,inplace=True) #fill all the missing value with 0\n",
    "realEstate2['age'].fillna(0,inplace=True)\n",
    "realEstate2['ketchen'].fillna(0,inplace=True)\n",
    "realEstate2['review'].fillna(0,inplace=True)\n",
    "realEstate2['furnished'].fillna(0,inplace=True)\n",
    "realEstate2['ac'].fillna(0,inplace=True)\n",
    "realEstate2['street_width'].fillna(0,inplace=True) "
   ]
  },
  {
   "cell_type": "code",
   "execution_count": null,
   "id": "88dbcbcd-8161-4a6e-b780-5a833ee7b883",
   "metadata": {},
   "outputs": [],
   "source": [
    "realEstate2.isnull().sum()\n",
    "#Display number missing values per column after update"
   ]
  },
  {
   "cell_type": "markdown",
   "id": "b40de63c-5a1d-49ed-a87e-c5229ee08bbe",
   "metadata": {
    "id": "b40de63c-5a1d-49ed-a87e-c5229ee08bbe"
   },
   "source": [
    "#### 7. Check Accuracy:\n",
    "\n",
    "Verify that the data is correct and precise. This could involve comparing data samples with known sources or using validation rules.\n",
    "\n",
    "**The process includes:**\n",
    "1. Validating the appropriateness of data types for the dataset.\n",
    "2. Identifying outliers  using established validation  rule"
   ]
  },
  {
   "cell_type": "code",
   "execution_count": null,
   "id": "68be5334-ae10-4abd-8097-3259fe5e72c8",
   "metadata": {
    "id": "68be5334-ae10-4abd-8097-3259fe5e72c8"
   },
   "outputs": [],
   "source": [
    "# check columns types\n",
    "realEstate2.info()"
   ]
  },
  {
   "cell_type": "code",
   "execution_count": null,
   "id": "2ee790ba-dcc0-45f1-b6f8-0133e913e149",
   "metadata": {
    "id": "2ee790ba-dcc0-45f1-b6f8-0133e913e149"
   },
   "outputs": [],
   "source": [
    "# correct the dtype for the columns\n",
    "realEstate2['livings']=realEstate2['livings'].astype(int)\n",
    "realEstate2['age']=realEstate2['age'].astype(int)\n",
    "realEstate2['ketchen']=realEstate2['ketchen'].astype(int)\n",
    "realEstate2['ac']=realEstate2['ac'].astype(bool)\n",
    "realEstate2['furnished']=realEstate2['furnished'].astype(bool)"
   ]
  },
  {
   "cell_type": "code",
   "execution_count": 28,
   "id": "c69b303a-5459-45f9-a28e-fcee45c21c05",
   "metadata": {
    "id": "c69b303a-5459-45f9-a28e-fcee45c21c05"
   },
   "outputs": [
    {
     "name": "stdout",
     "output_type": "stream",
     "text": [
      "<class 'pandas.core.frame.DataFrame'>\n",
      "RangeIndex: 6762 entries, 0 to 6761\n",
      "Data columns (total 14 columns):\n",
      " #   Column        Non-Null Count  Dtype  \n",
      "---  ------        --------------  -----  \n",
      " 0   title         6762 non-null   object \n",
      " 1   price         6762 non-null   int64  \n",
      " 2   beds          6762 non-null   int64  \n",
      " 3   livings       6762 non-null   int32  \n",
      " 4   wc            6762 non-null   int64  \n",
      " 5   street_width  6762 non-null   float64\n",
      " 6   age           6762 non-null   int32  \n",
      " 7   ketchen       6762 non-null   int32  \n",
      " 8   ac            6762 non-null   bool   \n",
      " 9   furnished     6762 non-null   bool   \n",
      " 10  path          6762 non-null   object \n",
      " 11  district      6762 non-null   object \n",
      " 12  review        6762 non-null   float64\n",
      " 13  IsRent        6762 non-null   bool   \n",
      "dtypes: bool(3), float64(2), int32(3), int64(3), object(3)\n",
      "memory usage: 521.8+ KB\n"
     ]
    }
   ],
   "source": [
    "# check columns types after updates\n",
    "realEstate2.info()"
   ]
  },
  {
   "cell_type": "code",
   "execution_count": null,
   "id": "38740214-885a-422f-a9e8-983efc72ee82",
   "metadata": {},
   "outputs": [],
   "source": [
    "# check outliers\n",
    "realEstate2[(realEstate2['review']<0 )& (realEstate2['review']>5)] # check outliers review col\n",
    "realEstate2[(realEstate2['price']>100000)&(realEstate2['price']<12000)] # check outliers price col 'human outlier'\n",
    "realEstate2['beds'].unique() # check outliers beds col \n",
    "realEstate2['district'].unique() # check outliers district col\n",
    "realEstate2['age'].unique() # check outliers age col\n",
    "realEstate2['wc'].unique() # check outliers wc col \n",
    "realEstate2['ketchen'].unique() # check outliers kitchen col "
   ]
  },
  {
   "cell_type": "code",
   "execution_count": null,
   "id": "b85d5247-9d06-4129-b475-6083c8abd715",
   "metadata": {},
   "outputs": [],
   "source": [
    "realEstate2.drop(realEstate2['review']<0 ,inplace=True)\n",
    "realEstate2.drop(realEstate2['review']<0  ,inplace=True)\n",
    "realEstate2.drop(realEstate2['price']>100000,inplace=True) # drop outliers price col 'human outlier'\n",
    "realEstate2.drop(realEstate2['price']<12000,inplace=True)"
   ]
  },
  {
   "cell_type": "code",
   "execution_count": null,
   "id": "f4f085f6-eb59-44a1-9803-95b0019e3ffc",
   "metadata": {},
   "outputs": [],
   "source": [
    "realEstate2['title']='شقة' # change the contenent of title\n"
   ]
  },
  {
   "cell_type": "code",
   "execution_count": null,
   "id": "ef3dbc49-9db4-42aa-a913-ebddd2cc86e8",
   "metadata": {},
   "outputs": [],
   "source": [
    "realEstate2.rename(columns={'path': 'region'},inplace=True) # change the column name\n",
    "realEstate2.rename(columns={'ketchen': 'kitchen'},inplace=True) # change the column name\n"
   ]
  },
  {
   "cell_type": "code",
   "execution_count": 32,
   "id": "2b0e4760-a059-44a4-8f39-5f42ad756c8d",
   "metadata": {},
   "outputs": [
    {
     "name": "stderr",
     "output_type": "stream",
     "text": [
      "C:\\Users\\Eknjz\\AppData\\Local\\Temp\\ipykernel_28004\\4061696563.py:2: SettingWithCopyWarning: \n",
      "A value is trying to be set on a copy of a slice from a DataFrame.\n",
      "Try using .loc[row_indexer,col_indexer] = value instead\n",
      "\n",
      "See the caveats in the documentation: https://pandas.pydata.org/pandas-docs/stable/user_guide/indexing.html#returning-a-view-versus-a-copy\n",
      "  realEstate2_east['region']='شرق الرياض'\n",
      "C:\\Users\\Eknjz\\AppData\\Local\\Temp\\ipykernel_28004\\4061696563.py:4: SettingWithCopyWarning: \n",
      "A value is trying to be set on a copy of a slice from a DataFrame.\n",
      "Try using .loc[row_indexer,col_indexer] = value instead\n",
      "\n",
      "See the caveats in the documentation: https://pandas.pydata.org/pandas-docs/stable/user_guide/indexing.html#returning-a-view-versus-a-copy\n",
      "  realEstate2_west['region']='غرب الرياض'\n",
      "C:\\Users\\Eknjz\\AppData\\Local\\Temp\\ipykernel_28004\\4061696563.py:6: SettingWithCopyWarning: \n",
      "A value is trying to be set on a copy of a slice from a DataFrame.\n",
      "Try using .loc[row_indexer,col_indexer] = value instead\n",
      "\n",
      "See the caveats in the documentation: https://pandas.pydata.org/pandas-docs/stable/user_guide/indexing.html#returning-a-view-versus-a-copy\n",
      "  realEstate2_north['region']='شمال الرياض'\n",
      "C:\\Users\\Eknjz\\AppData\\Local\\Temp\\ipykernel_28004\\4061696563.py:8: SettingWithCopyWarning: \n",
      "A value is trying to be set on a copy of a slice from a DataFrame.\n",
      "Try using .loc[row_indexer,col_indexer] = value instead\n",
      "\n",
      "See the caveats in the documentation: https://pandas.pydata.org/pandas-docs/stable/user_guide/indexing.html#returning-a-view-versus-a-copy\n",
      "  realEstate2_south['region']='جنوب الرياض'\n"
     ]
    }
   ],
   "source": [
    "realEstate2_east=realEstate2[realEstate2['region'].str.contains('شرق')] # change the region content\n",
    "realEstate2_east['region']='شرق الرياض'\n",
    "realEstate2_west=realEstate2[realEstate2['region'].str.contains('غرب')]# change the region content\n",
    "realEstate2_west['region']='غرب الرياض'\n",
    "realEstate2_north=realEstate2[realEstate2['region'].str.contains('شمال')]# change the region content\n",
    "realEstate2_north['region']='شمال الرياض'\n",
    "realEstate2_south=realEstate2[realEstate2['region'].str.contains('جنوب')]# change the region content\n",
    "realEstate2_south['region']='جنوب الرياض'\n",
    "realEstate3=pd.concat([realEstate2_east,realEstate2_west,realEstate2_north,realEstate2_south],ignore_index=True) # conact the 4 dataframe\n"
   ]
  },
  {
   "cell_type": "code",
   "execution_count": null,
   "id": "5293b7f9-687b-4286-a46d-6505616664d1",
   "metadata": {},
   "outputs": [],
   "source": [
    "realEstate3 "
   ]
  },
  {
   "cell_type": "code",
   "execution_count": null,
   "id": "7b3e4415-bdae-4f32-b753-f454c8aee06e",
   "metadata": {},
   "outputs": [],
   "source": [
    "\n",
    "profile=ProfileReport(realEstate3 ,title='RIYADH AQAR') # use the y data library\n",
    "profile.to_notebook_iframe()\n",
    "# check after the update in ydata"
   ]
  },
  {
   "cell_type": "markdown",
   "id": "4aca9d42-add6-45db-92cf-1f6dae5f277b",
   "metadata": {
    "id": "4aca9d42-add6-45db-92cf-1f6dae5f277b"
   },
   "source": [
    "**What is an Outlier?**\n",
    "Outlier is an row/observation that appears far away and diverges from an overall pattern in a sample.\n",
    "\n",
    "**What are the types of Outliers?**\n",
    "1. Univariate: These outliers can be found when we look at distribution of a single variable\n",
    "2. Multivariate: are outliers in an n-dimensional space. In order to find them, you have to look at distributions in multi-dimensions. example (hight=100, weight=100) for a person\n",
    "\n",
    "**What causes Outliers?**\n",
    "Whenever we come across outliers, the ideal way to tackle them is to find out the reason of having these outliers. The method to deal with them would then depend on the reason of their occurrence.\n",
    "\n",
    "Let’s understand various types of outliers:\n",
    "\n",
    "1. Data Entry Errors:- Human errors such as errors caused during data collection, recording, or entry can cause outliers in data.\n",
    "2. Measurement Error: It is the most common source of outliers. This is caused when the measurement instrument used turns out to be faulty.\n",
    "3. Data Processing Error: Whenever we perform data mining, we extract data from multiple sources. It is possible that some manipulation or extraction errors may lead to outliers in the dataset.\n",
    "4. Sampling error: For instance, we have to measure the height of athletes. By mistake, we include a few basketball players in the sample. This inclusion is likely to cause outliers in the dataset.\n",
    "5. Natural Outlier: When an outlier is not artificial (due to error), it is a natural outlier. For instance: In my last assignment with one of the renowned insurance company, I noticed that the performance of top 50 financial advisors was far higher than rest of the population. Surprisingly, it was not due to any error. Hence, whenever we perform any data mining activity with advisors, we used to treat this segment separately.\n",
    "\n",
    "\n",
    "**What is the impact of Outliers on a dataset?**\n",
    "\n",
    "\n",
    "![image.png](https://www.analyticsvidhya.com/wp-content/uploads/2015/02/Outlier_31.png)\n",
    "\n",
    "\n",
    "\n",
    "**How to detect Outliers?**\n",
    "\n",
    "1. Most commonly used method to detect outliers is visualization (Univariate Graphical Analysis).\n",
    "\n",
    "We use 3 common visualization methods:\n",
    ">- Box-plot: A box plot is a method for graphically depicting groups of numerical data through their quartiles. The box extends from the Q1 to Q3 quartile values of the data, with a line at the median (Q2). The whiskers extend from the edges of the box to show the range of the data. Outlier points are those past the end of the whiskers. Box plots show robust measures of location and spread as well as providing information about symmetry and outliers.\n",
    ">\n",
    ">  \n",
    ">![image.png](https://miro.medium.com/v2/resize:fit:698/format:webp/1*VK5iHA2AB28HSZwWwUbNYg.png)\n",
    ">\n",
    ">\n",
    ">- Histogram\n",
    ">- Scatter Plot: A scatter plot is a mathematical diagram using Cartesian coordinates to display values for two variables for a set of data. The data are displayed as a collection of points, each having the value of one variable determining the position on the horizontal axis and the value of the other variable determining the position on the vertical axis. The points that are far from the population can be termed as an outlier.\n",
    ">\n",
    ">  \n",
    ">![image.png](https://miro.medium.com/v2/resize:fit:4800/format:webp/1*Ov6aH-8yIwNoUxtMFwgx4g.png)\n",
    ">\n",
    ">\n",
    "\n",
    "2. Using statistical method (Univariate Non-Graphical analysis):\n",
    ">- Any value, which is beyond the range of -1.5 x IQR to 1.5 x IQR\n",
    "\n",
    "![image.png](https://www.whatissixsigma.net/wp-content/uploads/2015/07/Box-Plot-Diagram-to-identify-Outliers-figure-1.png)\n",
    "\n",
    ">- Use capping methods. Any value which out of range of 5th and 95th percentile can be considered as outlier\n",
    ">- Data points, three or more standard deviation away from mean are considered outlier: The Z-score is the signed number of standard deviations by which the value of an observation or data point is above the mean value of what is being observed or measured. While calculating the Z-score we re-scale and center the data and look for data points that are too far from zero. These data points which are way too far from zero will be treated as the outliers. In most of the cases, a threshold of 3 or -3 is used i.e if the Z-score value is greater than or less than 3 or -3 respectively, that data point will be identified as outliers.\n",
    "> - Outlier detection is merely a special case of the examination of data for influential data points and it also depends on the business understanding\n"
   ]
  },
  {
   "cell_type": "code",
   "execution_count": null,
   "id": "1dc97312-31da-4354-a581-9f210c4b80f2",
   "metadata": {},
   "outputs": [],
   "source": []
  },
  {
   "cell_type": "code",
   "execution_count": null,
   "id": "74ea6194-cc01-45d8-be38-c4543eb1714e",
   "metadata": {
    "id": "74ea6194-cc01-45d8-be38-c4543eb1714e"
   },
   "outputs": [],
   "source": [
    "# go to univariate graphical analysis\n",
    "# go to lesson : data visualisation 1 - chart type section\n",
    "# then go to univariate graphical analysis\n",
    "# detect outliers using graphs varbaly\n",
    "my_report = sv.analyze(realEstate3) # use the sweetviz library to show some graphs.\n",
    "my_report.show_html() # Default arguments will generate to \"SWEETVIZ_REPORT.html\")\n",
    "\n",
    "\n"
   ]
  },
  {
   "cell_type": "code",
   "execution_count": null,
   "id": "48ecf77b-480c-4f64-9485-95be805bc357",
   "metadata": {
    "id": "48ecf77b-480c-4f64-9485-95be805bc357"
   },
   "outputs": [],
   "source": [
    "# go to lesson: statistics 1 then statistics 3\n",
    "# then go to univariate Non graphical analysis\n",
    "# detect outliers using numerical statistics"
   ]
  },
  {
   "cell_type": "code",
   "execution_count": null,
   "id": "ee200da8-62b0-492d-b118-f4d665a1fb16",
   "metadata": {
    "id": "ee200da8-62b0-492d-b118-f4d665a1fb16"
   },
   "outputs": [],
   "source": []
  },
  {
   "cell_type": "code",
   "execution_count": null,
   "id": "4e66d611-6958-4860-8522-9ada7fce40b0",
   "metadata": {
    "id": "4e66d611-6958-4860-8522-9ada7fce40b0"
   },
   "outputs": [],
   "source": [
    "# go to delete ouliers"
   ]
  },
  {
   "cell_type": "markdown",
   "id": "4e886ec7-388c-414b-ada7-803c2fb1f2cb",
   "metadata": {
    "id": "4e886ec7-388c-414b-ada7-803c2fb1f2cb"
   },
   "source": [
    "## 2. Data Cleaning:\n",
    "\n",
    "Preliminary findings from data profiling can lead to cleaning the data by:\n",
    "- Handling missing values\n",
    "- Correcting errors.\n",
    "- Dealing with outliers.\n",
    "\n",
    "-------------------\n",
    "\n"
   ]
  },
  {
   "cell_type": "markdown",
   "id": "21876b48-f5ec-4970-85a9-0520d45d8841",
   "metadata": {
    "id": "21876b48-f5ec-4970-85a9-0520d45d8841"
   },
   "source": [
    "### Handling missing values:"
   ]
  },
  {
   "cell_type": "markdown",
   "id": "c890d5a2-2a65-4090-9427-f89c0f011d3f",
   "metadata": {
    "id": "c890d5a2-2a65-4090-9427-f89c0f011d3f"
   },
   "source": [
    "**Why my data has missing values?**\n",
    "They may occur at two stages:\n",
    "1. Data Extraction: It is possible that there are problems with extraction process. Errors at data extraction stage are typically easy to find and can be corrected easily as well.\n",
    "2. Data collection: These errors occur at time of data collection and are harder to correct.\n",
    "\n",
    "**Why do we need to handle the missing data?**\n",
    "To avoid:\n",
    "- Bias the conclusions.\n",
    "- Leading the business to make wrong decisions.\n",
    "\n",
    "**Which are the methods to treat missing values ?**\n",
    "1. Deletion: we delete rows where any of the variable is missing. Simplicity is one of the major advantage of this method, but this method reduces the power of model because it reduces the sample size.\n",
    "\n",
    "2. Imputation: is a method to fill in the missing values with estimated ones. This imputation is one of the most frequently used methods.\n",
    "\n",
    "    2.1. Mean/ Mode/ Median Imputation: It consists of replacing the missing data for a given attribute by the mean or median (quantitative attribute) or mode (qualitative attribute) of all known values of that variable.\n",
    "    > It can be of two types:\n",
    "    > - Generalized Imputation: In this case, we calculate the mean or median for all non missing values of that variable then replace missing value with mean or median.\n",
    "    > - Similar case Imputation: In this case, we calculate average for each group individually of non missing values then replace the missing value based on the group.\n",
    "\n",
    "    2.2. Constant Value\n",
    "   \n",
    "    2.3. Forward Filling\n",
    "   \n",
    "    2.4. Backward Filling\n",
    "\n",
    "6. Prediction Model:  Prediction model is one of the sophisticated method for handling missing data. Here, we create a predictive model to estimate values that will substitute the missing data.  In this case, we divide our data set into two sets: One set with no missing values for the variable and another one with missing values. First data set become training data set of the model while second data set with missing values is test data set and variable with missing values is treated as target variable. Next, we create a model to predict target variable based on other attributes of the training data set and populate missing values of test data set.\n",
    "\n",
    "> There are 2 drawbacks for this approach:\n",
    "> - The model estimated values are usually more well-behaved than the true values\n",
    "> - If there are no relationships with attributes in the data set and the attribute with missing values, then the model will not be precise for estimating missing values.\n",
    "\n",
    "9. KNN Imputation: In this method of imputation, the missing values of an attribute are imputed using the given number of attributes that are most similar to the attribute whose values are missing. The similarity of two attributes is determined using a distance function. It is also known to have certain advantage & disadvantages.\n",
    "\n",
    "   > **Advantages:**\n",
    "   > - k-nearest neighbour can predict both qualitative & quantitative attributes\n",
    "   > - Creation of predictive model for each attribute with missing data is not required\n",
    "   > - Attributes with multiple missing values can be easily treated\n",
    "   > - Correlation structure of the data is taken into consideration\n",
    "\n",
    "   > **Disadvantage:**\n",
    "   > - KNN algorithm is very time-consuming in analyzing large database. It searches through all the dataset looking for the most similar instances.\n",
    "   > - Choice of k-value is very critical. Higher value of k would include attributes which are significantly different from what we need whereas lower value of k implies missing out of significant attributes.\n",
    "\n",
    "--------------------\n"
   ]
  },
  {
   "cell_type": "code",
   "execution_count": null,
   "id": "57e741fb-71c1-46ad-a526-d8f0b1564dc3",
   "metadata": {
    "id": "57e741fb-71c1-46ad-a526-d8f0b1564dc3"
   },
   "outputs": [],
   "source": []
  },
  {
   "cell_type": "code",
   "execution_count": null,
   "id": "01287962-8077-4c01-8d1d-5f8aed6cb37a",
   "metadata": {
    "id": "01287962-8077-4c01-8d1d-5f8aed6cb37a"
   },
   "outputs": [],
   "source": [
    "# go back to 6th dimention --> Completeness"
   ]
  },
  {
   "cell_type": "markdown",
   "id": "f7cee10f-0af8-44e5-b595-8e965294daad",
   "metadata": {
    "id": "f7cee10f-0af8-44e5-b595-8e965294daad"
   },
   "source": [
    "### Correcting errors\n",
    "\n",
    "-------------------"
   ]
  },
  {
   "cell_type": "code",
   "execution_count": null,
   "id": "06273b88-a169-42e8-81f5-5d71cb3f9c21",
   "metadata": {
    "id": "06273b88-a169-42e8-81f5-5d71cb3f9c21"
   },
   "outputs": [],
   "source": []
  },
  {
   "cell_type": "code",
   "execution_count": null,
   "id": "f1d95da5-a3ba-473a-8243-aa177cadae20",
   "metadata": {
    "id": "f1d95da5-a3ba-473a-8243-aa177cadae20"
   },
   "outputs": [],
   "source": [
    "# go back to 7th dimension Accuracy"
   ]
  },
  {
   "cell_type": "markdown",
   "id": "5ecc7dbb-6867-44cf-8f99-1b969a80be40",
   "metadata": {
    "id": "5ecc7dbb-6867-44cf-8f99-1b969a80be40"
   },
   "source": [
    "### Dealing with outliers:"
   ]
  },
  {
   "cell_type": "markdown",
   "id": "88347887-4bdf-48af-9486-cb8fe80c97af",
   "metadata": {
    "id": "88347887-4bdf-48af-9486-cb8fe80c97af"
   },
   "source": [
    "**How to remove Outliers?**\n",
    "Most of the ways to deal with outliers are similar to the methods of missing values like deleting rows, transforming them, binning them, treat them as a separate group, imputing values and other statistical methods. Here, we will discuss the common techniques used to deal with outliers:\n",
    "\n",
    "1. Deleting rows: We delete outlier values if it is due to data entry error, data processing error or outlier rows are very small in numbers. We can also use trimming at both ends to remove outliers.\n",
    "\n",
    "2. Imputing: Like imputation of missing values, we can also impute outliers. We can use mean, median, mode imputation methods. Before imputing values, we should analyse if it is natural outlier or artificial. If it is artificial, we can go with imputing values. We can also use statistical model to predict values of outlier rows and after that we can impute it with predicted values.\n",
    "\n",
    "3. Treat separately: If there are significant number of outliers, we should treat them separately in the statistical model. One of the approach is to treat both groups as two different groups and build individual model for both groups and then combine the output.\n"
   ]
  },
  {
   "cell_type": "code",
   "execution_count": null,
   "id": "25a585f0-2b9c-42fa-bf21-cacc6aa3be3f",
   "metadata": {
    "id": "25a585f0-2b9c-42fa-bf21-cacc6aa3be3f"
   },
   "outputs": [],
   "source": []
  },
  {
   "cell_type": "markdown",
   "id": "98548b66-e309-4eb8-a5dc-65fe0abbf1e8",
   "metadata": {
    "id": "98548b66-e309-4eb8-a5dc-65fe0abbf1e8"
   },
   "source": [
    "## 3. Univariate Analysis:\n",
    "\n",
    "This involves examining single variables to understand their characteristics (distribution, central tendency, dispersion, and shape).\n",
    "\n",
    "We calculate **numerical values** about the data that tells us about the distribution of the data. We also **draw graphs** showing visually how the data is distributed. **To answer the following questions about Features/characteristics of Data:**\n",
    "- Where is the center of the data? (location)\n",
    "- How much does the data vary? (scale)\n",
    "- What is the shape of the data? (shape)\n",
    "\n",
    "**The benefits of this analysis:**\n",
    "Statistics summary gives a high-level idea to identify whether the data has any outliers, data entry error, distribution of data such as the data is normally distributed or left/right skewed\n",
    "\n",
    "**In this step, we will explore variables one by one using following approaches:**"
   ]
  },
  {
   "cell_type": "markdown",
   "id": "d6718111-7ac2-4fff-9851-654655b62e0b",
   "metadata": {
    "id": "d6718111-7ac2-4fff-9851-654655b62e0b"
   },
   "source": [
    "### 1. Univariate Graphical Analysis:\n",
    "Method to perform uni-variate analysis will depend on whether the variable type is categorical or numerical."
   ]
  },
  {
   "cell_type": "code",
   "execution_count": null,
   "id": "db79d803-b75c-4686-a623-e8420321a90f",
   "metadata": {
    "id": "db79d803-b75c-4686-a623-e8420321a90f"
   },
   "outputs": [],
   "source": []
  },
  {
   "cell_type": "markdown",
   "id": "0d57c4b9-9bb3-494d-85dd-b8d39afda139",
   "metadata": {
    "id": "0d57c4b9-9bb3-494d-85dd-b8d39afda139"
   },
   "source": [
    "#### I. Categorical Variables:\n",
    "\n",
    "we’ll use frequency table to understand distribution of each category\n",
    "- Bar Chart (Ordinal) - Orderd\n",
    "- Pie Chart (Nominal) - non Orderd"
   ]
  },
  {
   "cell_type": "code",
   "execution_count": null,
   "id": "72ece4b7-5508-403a-8fb0-f519fc74272a",
   "metadata": {
    "id": "72ece4b7-5508-403a-8fb0-f519fc74272a"
   },
   "outputs": [],
   "source": []
  },
  {
   "cell_type": "markdown",
   "id": "d2641f0d-80f2-493b-99b7-15476379a1e2",
   "metadata": {
    "id": "d2641f0d-80f2-493b-99b7-15476379a1e2"
   },
   "source": [
    "#### II. Numerical Variables:\n",
    "\n",
    "we need to understand the central tendency and spread of the variable (Descriptive Analysis) using:\n",
    "   - Box plot\n",
    "   - Histogram"
   ]
  },
  {
   "cell_type": "code",
   "execution_count": null,
   "id": "5be16f08-a072-4a02-a3ee-6f9d57786fb4",
   "metadata": {
    "id": "5be16f08-a072-4a02-a3ee-6f9d57786fb4"
   },
   "outputs": [],
   "source": []
  },
  {
   "cell_type": "markdown",
   "id": "d66677d3-44ad-414f-9b39-f9c1995ad043",
   "metadata": {
    "id": "d66677d3-44ad-414f-9b39-f9c1995ad043"
   },
   "source": [
    "### 2. Univariate Non-Graphical analysis:\n",
    "\n",
    "- Where is the center of the data? (location) --> **Measures of central tendency**\n",
    "- How much does the data vary? (scale) --> **Measure of variability**\n",
    "- What is the shape of the data? (shape) --> **Measures of variation combined with an average (measure of center) gives a good picture of the distribution of the data.**"
   ]
  },
  {
   "cell_type": "code",
   "execution_count": null,
   "id": "f1058d84-e61e-4f5b-b66a-29931e77821b",
   "metadata": {
    "id": "f1058d84-e61e-4f5b-b66a-29931e77821b"
   },
   "outputs": [],
   "source": []
  },
  {
   "cell_type": "markdown",
   "id": "f09bb809-0edd-432b-bf23-abd0840b3e16",
   "metadata": {
    "id": "f09bb809-0edd-432b-bf23-abd0840b3e16"
   },
   "source": [
    "## 4. Bivariate/Multivariate Analysis:\n",
    "\n",
    "Here, you look at the relationships between two or more variables. This can involve looking for correlations, patterns, and trends that suggest a relationship or an association.\n",
    "\n",
    "We can perform bi-variate analysis for any combination of categorical and numerical variables. The combination can be:\n",
    "| bi-variate variables   | Plot type |\n",
    "| ------------- | ------------- |\n",
    "| Categorical & Categorical| Stacked Bar Chart |\n",
    "| Categorical & numerical  | scatter plot, histogram, box plot|\n",
    "| numerical  & numerical  | Scatter plot, line chart|\n",
    "\n",
    "\n",
    "Multivariate Analysis:\n",
    "- Heat map\n",
    "- Bar Chart\n",
    "- Scatter Chart\n",
    "- Line Chart"
   ]
  },
  {
   "cell_type": "markdown",
   "id": "838f2864-ce9e-4f15-99c8-052d053154a7",
   "metadata": {
    "id": "838f2864-ce9e-4f15-99c8-052d053154a7"
   },
   "source": [
    "**Categorical & Categorical --> (Stacked Column Chart)**"
   ]
  },
  {
   "cell_type": "code",
   "execution_count": null,
   "id": "73f9f2ac-8477-49ea-9c68-4fe44d4395b6",
   "metadata": {
    "id": "73f9f2ac-8477-49ea-9c68-4fe44d4395b6"
   },
   "outputs": [],
   "source": []
  },
  {
   "cell_type": "markdown",
   "id": "730e088f-fe13-40da-8fbb-686f5135fa4d",
   "metadata": {
    "id": "730e088f-fe13-40da-8fbb-686f5135fa4d"
   },
   "source": [
    "**Categorical & numerical --> (scatter plot, histogram, box plot)**"
   ]
  },
  {
   "cell_type": "code",
   "execution_count": null,
   "id": "3590e345-2051-4215-91ac-07d196b510ef",
   "metadata": {
    "id": "3590e345-2051-4215-91ac-07d196b510ef"
   },
   "outputs": [],
   "source": []
  },
  {
   "cell_type": "markdown",
   "id": "20aed48d-b78e-46da-963f-e7f15e2f4dc7",
   "metadata": {
    "id": "20aed48d-b78e-46da-963f-e7f15e2f4dc7"
   },
   "source": [
    "**numerical & numerical --> (Scatter plot, line chart)**"
   ]
  },
  {
   "cell_type": "code",
   "execution_count": null,
   "id": "41023177-01cb-4f39-a750-12be71b13bda",
   "metadata": {
    "id": "41023177-01cb-4f39-a750-12be71b13bda"
   },
   "outputs": [],
   "source": []
  },
  {
   "cell_type": "markdown",
   "id": "efb43b30-b1f0-48a4-a19c-195810cc8a0f",
   "metadata": {
    "id": "efb43b30-b1f0-48a4-a19c-195810cc8a0f"
   },
   "source": [
    "We could also use a correlation matrix to get more specific information about the relationship between these two variables."
   ]
  },
  {
   "cell_type": "code",
   "execution_count": null,
   "id": "8406f58f-b825-4a15-8f6e-c68ca66bd483",
   "metadata": {
    "id": "8406f58f-b825-4a15-8f6e-c68ca66bd483"
   },
   "outputs": [],
   "source": []
  },
  {
   "cell_type": "code",
   "execution_count": null,
   "id": "kJMwSq4kmwdP",
   "metadata": {
    "id": "kJMwSq4kmwdP"
   },
   "outputs": [],
   "source": [
    "import streamlit as st\n",
    "import pandas as pd\n",
    "import plotly.express as px\n",
    "\n",
    "# Load your Toyota dataset\n",
    "data = pd.read_csv('df_car_Toyota.csv')  # Adjust with your dataset path\n",
    "\n",
    "# CSS\n",
    "css = \"\"\"\n",
    "<style>\n",
    "body {\n",
    "    font-family: 'Arial', sans-serif;\n",
    "    background-color: #f2f2f2;\n",
    "    color: #333;\n",
    "    text-align: center;\n",
    "}\n",
    "\n",
    "h1 {\n",
    "    color: #E4002B;  /* Toyota red */\n",
    "}\n",
    "\n",
    "h2, h3 {\n",
    "    color: #333;\n",
    "}\n",
    "\n",
    ".stButton button {\n",
    "    background-color: #E4002B;  /* Toyota red */\n",
    "    color: white;\n",
    "    border: none;\n",
    "    border-radius: 5px;\n",
    "    padding: 10px 20px;\n",
    "    cursor: pointer;\n",
    "}\n",
    "\n",
    ".stButton button:hover {\n",
    "    background-color: #B3001B;  /* Darker red on hover */\n",
    "}\n",
    "\n",
    ".plotly-graph div {\n",
    "    background-color: white;  /* White background for plots */\n",
    "    border-radius: 10px;  /* Rounded corners */\n",
    "    box-shadow: 0 2px 10px rgba(0, 0, 0, 0.1);  /* Subtle shadow */\n",
    "    padding: 10px;  /* Padding for the plot area */\n",
    "}\n",
    "\n",
    ".markdown-text {\n",
    "    margin: 20px 0;\n",
    "}\n",
    "</style>\n",
    "\"\"\"\n",
    "\n",
    "# Inject CSS\n",
    "st.markdown(css, unsafe_allow_html=True)\n",
    "\n",
    "st.image(\"toyota_logo_icon_169445.png\")\n",
    "# Title and Introduction\n",
    "st.title(\"Looking for a used Toyota car?\")\n",
    "st.markdown(\"<div class='markdown-text'>I got you</div>\", unsafe_allow_html=True)\n",
    "st.markdown(\"<div class='markdown-text'>I understand the struggle of looking for a new car, so I did the heavy lifting for you.</div>\", unsafe_allow_html=True)\n",
    "st.markdown(\"<div class='markdown-text'>First of all, I wanted to show you the main top 10 cars from Toyota in the used car market. It could interest you in specific car</div>\", unsafe_allow_html=True)\n",
    "\n",
    "st.markdown(\"### Here are the main top 10 cars from Toyota\")\n",
    "# Count the occurrences of each car type\n",
    "top_10_types = data['Type'].value_counts().head(10)\n",
    "chart_data = pd.DataFrame({\n",
    "    'Type': top_10_types.index,\n",
    "    'Total': top_10_types.values\n",
    "})\n",
    "fig1 = px.bar(chart_data, x='Type', y='Total', title='Top 10 Toyota Car Types',\n",
    "              range_y=[0, max(chart_data['Total']) + 5])\n",
    "st.plotly_chart(fig1)\n",
    "\n",
    "st.markdown(\"<div class='markdown-text'>However, if you have something in mind, maybe a specific car from Toyota?</div>\", unsafe_allow_html=True)\n",
    "st.markdown(\"<div class='markdown-text'>Take a look</div>\", unsafe_allow_html=True)\n",
    "\n",
    "# User Input for Car Type\n",
    "car_types = data['Type'].unique()\n",
    "selected_car = st.selectbox('What Type of car are you interested in?', car_types)\n",
    "\n",
    "# Filter based on the selected car type\n",
    "filtered_data = data[data['Type'] == selected_car]\n",
    "\n",
    "# Display price ranges for the selected car type\n",
    "st.markdown(\"### Of course, you want it to be in your budget, so obviously I got your back here too. \"\n",
    "            \"Check out the ranges of prices for a used Toyota car.\")\n",
    "\n",
    "# Creating bins for price ranges\n",
    "price_bins = pd.cut(filtered_data['Price'], bins=10)  # Adjust bins as needed\n",
    "price_range_counts = price_bins.value_counts().sort_index()\n",
    "\n",
    "price_data = pd.DataFrame({\n",
    "    'Price Range': price_range_counts.index.astype(str),\n",
    "    'Count': price_range_counts.values\n",
    "})\n",
    "\n",
    "# Visualize price ranges with Plotly (line chart)\n",
    "fig2 = px.line(price_data, x='Price Range', y='Count', title='Check out the Price Range for Your Selected Car',\n",
    "                markers=True)  # Markers added for visibility\n",
    "fig2.update_traces(line=dict(width=2, color='blue'))  # Adjust line width and color\n",
    "\n",
    "# Update layout for better appearance\n",
    "fig2.update_layout(yaxis_title='Count', xaxis_title='Price Range',\n",
    "                   xaxis_tickangle=-45,  # Rotate x-axis labels for better visibility\n",
    "                   transition_duration=500)  # Set the duration of the transition\n",
    "\n",
    "st.plotly_chart(fig2)\n",
    "\n",
    "# Display regions where the selected car type is available\n",
    "st.markdown(\"### Once you've figured out if it's in your budget, are you wondering where to get it from?\")\n",
    "\n",
    "# Count the occurrences of each region\n",
    "region_counts = filtered_data['Region'].value_counts()\n",
    "region_data = pd.DataFrame({\n",
    "    'Region': region_counts.index,\n",
    "    'Count': region_counts.values\n",
    "})\n",
    "\n",
    "# Visualize regions with Plotly (pie chart)\n",
    "fig3 = px.pie(region_data, names='Region', values='Count', title='Regions Where Your Car is Available In',\n",
    "               hole=0.3)  # Use a donut chart style for a nice effect\n",
    "fig3.update_traces(pull=[0.05] * len(region_data),  # Small separation for each slice\n",
    "                   textinfo='percent+label',  # Show percentage and label\n",
    "                   marker=dict(line=dict(color='#FFFFFF', width=2)))  # Add white border for contrast\n",
    "st.plotly_chart(fig3)"
   ]
  }
 ],
 "metadata": {
  "colab": {
   "collapsed_sections": [
    "Edk-sCMOsCnN",
    "38mB8SAJsWVh",
    "ADap8YLZsuDB"
   ],
   "provenance": []
  },
  "kernelspec": {
   "display_name": "Python 3 (ipykernel)",
   "language": "python",
   "name": "python3"
  },
  "language_info": {
   "codemirror_mode": {
    "name": "ipython",
    "version": 3
   },
   "file_extension": ".py",
   "mimetype": "text/x-python",
   "name": "python",
   "nbconvert_exporter": "python",
   "pygments_lexer": "ipython3",
   "version": "3.12.4"
  }
 },
 "nbformat": 4,
 "nbformat_minor": 5
}
